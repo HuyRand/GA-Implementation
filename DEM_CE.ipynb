{
  "cells": [
    {
      "cell_type": "markdown",
      "metadata": {
        "id": "rhqQuwzVPyd2"
      },
      "source": [
        "# Define misc functions"
      ]
    },
    {
      "cell_type": "code",
      "execution_count": 1,
      "metadata": {
        "id": "STYqyPKwyskU"
      },
      "outputs": [],
      "source": [
        "from numba import jit, cuda\n",
        "import pickle\n",
        "import os\n",
        "from numba import jit, cuda\n",
        "def serialize(file,location):\n",
        "  with open(location, 'wb') as fp:\n",
        "    pickle.dump(file, fp)\n",
        "\n",
        "def log_progress(file,location):\n",
        "  with open(location, \"w\") as f:\n",
        "      for s in file:\n",
        "          f.write(str(s) +\"\\n\")\n",
        "\n",
        "def log_summerize(file,location):\n",
        "  with open(location, \"w\") as f:\n",
        "    f.write(str(file))\n",
        "\n",
        "def read_file(location):\n",
        "  temp = None\n",
        "  with open (location, 'rb') as fp:\n",
        "      temp = pickle.load(fp)\n",
        "  return temp"
      ]
    },
    {
      "cell_type": "markdown",
      "metadata": {
        "id": "OFR7itcCP5cA"
      },
      "source": [
        "# Define objetive functions"
      ]
    },
    {
      "cell_type": "code",
      "execution_count": 2,
      "metadata": {
        "id": "Y9ywAdfdo5zR"
      },
      "outputs": [],
      "source": [
        "import math\n",
        "def Sphere_f(x):\n",
        "    sum = 0\n",
        "    for i in x:\n",
        "        sum += i**2\n",
        "    \n",
        "    return sum\n",
        "\n",
        "def Rosenbrock_f(x):\n",
        "    sum = 0\n",
        "    for i in range(len(x) - 1):\n",
        "        sum += (100*((x[i + 1] - x[i]**2)**2) + (1 -x[i])**2)\n",
        "    return sum\n",
        "\n",
        "def Ackley_f(x):\n",
        "    a = 20\n",
        "    b = 0.2\n",
        "    c = 2 * np.pi\n",
        "    f1 = 0\n",
        "    f2 = 0\n",
        "    for i in range(len(x)):\n",
        "        f1 += x[i] ** 2\n",
        "        f2 += np.cos(c * x[i])\n",
        "    p1 = -a * np.exp(-b * np.sqrt(f1 / len(x)))\n",
        "    p2 = -np.exp(f2 / len(x))\n",
        "\n",
        "    return p1 + p2 + a + np.exp(1)\n",
        "\n",
        "def Zakharov_f(x):\n",
        "    sum1=0\n",
        "    sum2=0\n",
        "    for i in range(len(x)):\n",
        "        sum1 = sum1 + x[i] **2\n",
        "        sum2 = sum2 + 0.5*i*x[i]\n",
        "    return sum1 + sum2**2 + sum2**4;\n",
        "\n",
        "def Michalewicz_f(x):\n",
        "    m=10\n",
        "    sum=0\n",
        "    for i in range(len(x)):\n",
        "        new = np.sin(x[i])*(np.sin(i*x[i]**2)) **(2*m)\n",
        "        sum = sum + new\n",
        "    return -sum"
      ]
    },
    {
      "cell_type": "markdown",
      "metadata": {
        "id": "tBZFVO-NQEzG"
      },
      "source": [
        "# Define DE "
      ]
    },
    {
      "cell_type": "code",
      "execution_count": null,
      "metadata": {
        "id": "h2_Y_zBqop-f"
      },
      "outputs": [],
      "source": [
        "import numpy as np\n",
        "import random\n",
        "def DE(fobj, dimension, bounds, F_scale, cross_prob, popsize,seed):\n",
        "    random.seed(seed)\n",
        "    lower_bound, upper_bound = np.asarray(bounds).T\n",
        "    if dimension == 2 :\n",
        "      Break_evels = 100000\n",
        "    elif dimension == 10 :\n",
        "      Break_evels = 1000000\n",
        "\n",
        "    early_stopping = 0.01\n",
        "\n",
        "    diff = np.fabs(lower_bound - upper_bound)\n",
        "\n",
        "    pop = lower_bound + diff * np.random.rand(popsize, dimension)\n",
        "\n",
        "    fitness = np.asarray([fobj(ind) for ind in pop])\n",
        "\n",
        "    num_eval = 1\n",
        "    \n",
        "    best_idx = np.argmin(fitness)\n",
        "    best = pop[best_idx]\n",
        "\n",
        "    results = []\n",
        "    results.append((np.copy(best), fitness[best_idx], num_eval))\n",
        "    \n",
        "    while True:\n",
        "        if num_eval > Break_evels:\n",
        "            break\n",
        "        for i in range(popsize):\n",
        "\n",
        "            idxes = [idx for idx in range(popsize) if idx != i]\n",
        "            a, b, c = pop[np.random.choice(idxes, 3, replace=False)]\n",
        "            mutant = np.clip(F_scale*(b - c) + a, lower_bound, upper_bound)\n",
        "\n",
        "            cross_points = np.random.rand(dimension) < cross_prob\n",
        "            if not np.any(cross_points):\n",
        "                cross_points[np.random.randint(0, dimension)] = True\n",
        "            \n",
        "            trial = np.where(cross_points, mutant, pop[i])\n",
        "\n",
        "            f = fobj(trial)\n",
        "\n",
        "            num_eval += 1\n",
        "\n",
        "            if f < fitness[i]:\n",
        "                pop[i] = trial\n",
        "                fitness[i] = f \n",
        "                if f < fitness[best_idx]:\n",
        "                    best = trial\n",
        "                    best_idx = i\n",
        "\n",
        "        results.append((np.copy(best), fitness[best_idx], num_eval))\n",
        "\n",
        "        if fobj(best) < early_stopping:\n",
        "            num_eval += 1\n",
        "            break\n",
        "\n",
        "\n",
        "    return results\n",
        "\n"
      ]
    },
    {
      "cell_type": "code",
      "execution_count": null,
      "metadata": {
        "id": "yB5gkD2kzpB7"
      },
      "outputs": [],
      "source": [
        "def initialize_de(func,dim,pop_size):\n",
        "  F_scale=0.8 \n",
        "  cross_prob=0.7\n",
        "  seed_number = 19520112\n",
        "  func_name = func\n",
        "  Destination_log_progress = './Log/'+func+'/Progress' \n",
        "  Destination_log_summarized = './Log/'+func+'/summarized' \n",
        "  Destination_serialized = './Serialized/'+func\n",
        "\n",
        "  if func =='Sphere':\n",
        "    func = Sphere_f\n",
        "  elif func == 'Rosenbrock':\n",
        "    func = Rosenbrock_f\n",
        "  elif func == 'Ackley':\n",
        "    func = Ackley_f\n",
        "  elif func == 'Zakharov':\n",
        "    func = Zakharov_f\n",
        "  elif func == 'Michalewicz':\n",
        "    func= Michalewicz_f\n",
        "\n",
        "\n",
        "  lower_bound = -5\n",
        "  upper_bound = 5\n",
        "  res={}\n",
        "  for dimension in dim:\n",
        "    for size in pop_size:\n",
        "      tolog=''\n",
        "      filename_summarized  = func_name+'_DE_'+str(dimension)+'_'+str(size)+ '.txt'\n",
        "      Exact_Location_log_summaized = os.path.join(Destination_log_summarized,filename_summarized)\n",
        "      os.makedirs(os.path.dirname(Exact_Location_log_summaized), exist_ok=True)\n",
        "\n",
        "      for i in range(10):\n",
        "        random.seed(seed_number+i)\n",
        "\n",
        "        filename = func_name+'_DE_'+str(dimension)+'_'+str(size)+'_'+str(seed_number+i)+'.txt'\n",
        "        \n",
        "\n",
        "        Exact_Location_serialized = os.path.join(Destination_serialized,filename)\n",
        "        Exact_Location_log = os.path.join(Destination_log_progress,filename)\n",
        "\n",
        "        os.makedirs(os.path.dirname(Exact_Location_log), exist_ok=True)\n",
        "        os.makedirs(os.path.dirname(Exact_Location_serialized), exist_ok=True)\n",
        "        \n",
        "\n",
        "\n",
        "        results, all_pops, generation_count = DE(func, dimension, [(lower_bound, upper_bound)]*dimension, F_scale, cross_prob, size,seed_number+i)\n",
        "\n",
        "        temp_log = \"seed: \"+ str(seed_number+i) + \"\\npopulation: \" + str(results[-1][0]) + \"\\nfitness: \" + str(results[-1][1]) + \"\\nevaluation: \" + str(results[-1][2]) + \"\\n----------------------------------\\n\"\n",
        "        tolog=tolog + temp_log\n",
        "        #print(temp_log)\n",
        "\n",
        "        \n",
        "        serialize(results,Exact_Location_serialized )\n",
        "        log_progress(results, Exact_Location_log)\n",
        "\n",
        "      log_summerize(tolog,Exact_Location_log_summaized)"
      ]
    },
    {
      "cell_type": "markdown",
      "metadata": {
        "id": "wIgbBZfLQIrh"
      },
      "source": [
        "# Define optimized CEM"
      ]
    },
    {
      "cell_type": "code",
      "execution_count": null,
      "metadata": {
        "id": "OjiUqtfMPshA"
      },
      "outputs": [],
      "source": [
        "import numpy as np\n",
        "\n",
        "import tensorflow as tf\n",
        "def CEM_optimized(fobj, dimensions, bounds, popsize, num_elite, sigma_init, extra_std, seed_number):\n",
        "    np.random.seed(seed_number)\n",
        "    eps = 0.01\n",
        "    lower_bound, upper_bound = np.asarray(bounds).T\n",
        "    sigma = sigma_init * np.eye(dimensions)\n",
        "\n",
        "    if dimensions == 2:\n",
        "      max_evals = 100000\n",
        "    if dimensions == 10:\n",
        "      max_evals = 1000000   \n",
        "    diff = np.fabs(lower_bound - upper_bound)\n",
        "    n_evals = 0\n",
        "    num_evals = [0]\n",
        "    mu = np.random.rand(dimensions) - (upper_bound + 1)\n",
        "    generation_count = 0\n",
        "\n",
        "    res=[]\n",
        "    while True:\n",
        "        if n_evals > max_evals:\n",
        "            break\n",
        "\n",
        "        x = np.random.multivariate_normal(mu, sigma, popsize)\n",
        "        fitness = np.array([fobj(x[i]) for i in range(popsize)])\n",
        "        n_evals += popsize\n",
        "        best_fitness = max(fitness) \n",
        "        if best_fitness < eps or np.sum(x) > 1e150 or np.sum(x) < -1e150:\n",
        "            break\n",
        "\n",
        "        elite_idx = fitness.argsort()[:num_elite]\n",
        "\n",
        "        sigma = np.zeros_like(sigma)\n",
        "\n",
        "        for i in range(num_elite):\n",
        "            z = x[elite_idx[i]] - mu\n",
        "            z = z.reshape(-1, 1)\n",
        "            sigma += tf.matmul(z.T, z)\n",
        "\n",
        "        sigma += np.eye(dimensions)*extra_std\n",
        "        sigma *= (1/num_elite)\n",
        "        generation_count += 1\n",
        "\n",
        "        res.append((mu,best_fitness,n_evals))\n",
        "        mu = np.mean(x[elite_idx], axis=0)\n",
        "\n",
        "    return res"
      ]
    },
    {
      "cell_type": "code",
      "execution_count": null,
      "metadata": {
        "id": "sYGIAsW2PtF6"
      },
      "outputs": [],
      "source": [
        "import random\n",
        "import numpy as np\n",
        "def initialize_cem(func,dim,pop_size):\n",
        "  seed_number = 19520112\n",
        "  func_name = func\n",
        "  Destination_log_progress = './Log/'+func+'/Progress' \n",
        "  Destination_log_summarized = './Log/'+func+'/summarized' \n",
        "  Destination_serialized = './Serialized/'+func\n",
        "\n",
        "  if func =='Sphere':\n",
        "    func = Sphere_f\n",
        "  elif func == 'Rosenbrock':\n",
        "    func = Rosenbrock_f\n",
        "  elif func == 'Ackley':\n",
        "    func = Ackley_f\n",
        "  elif func == 'Zakharov':\n",
        "    func = Zakharov_f\n",
        "  elif func == 'Michalewicz':\n",
        "    func= Michalewicz_f\n",
        "\n",
        "  lower_bound = -5\n",
        "  upper_bound = 5\n",
        "  num_elite = 10\n",
        "  sigma_init = 4\n",
        "  extra_std = 0.01\n",
        "\n",
        "  for dimension in dim:\n",
        "    for size in pop_size:\n",
        "      tolog=''\n",
        "      filename_summarized  = func_name+'_CEM_'+str(dimension)+'_'+str(size)+ '.txt'\n",
        "      Exact_Location_log_summaized = os.path.join(Destination_log_summarized,filename_summarized)\n",
        "      os.makedirs(os.path.dirname(Exact_Location_log_summaized), exist_ok=True)\n",
        "      for i in range(10):\n",
        "        random.seed(seed_number+i)\n",
        "\n",
        "        filename = func_name+'_CEM_'+str(dimension)+'_'+str(size)+'_'+str(seed_number+i)+'.txt'\n",
        "        \n",
        "\n",
        "        Exact_Location_serialized = os.path.join(Destination_serialized,filename)\n",
        "        Exact_Location_log = os.path.join(Destination_log_progress,filename)\n",
        "\n",
        "        os.makedirs(os.path.dirname(Exact_Location_log), exist_ok=True)\n",
        "        os.makedirs(os.path.dirname(Exact_Location_serialized), exist_ok=True)\n",
        "        results = CEM_optimized(func, dimension, [(lower_bound, upper_bound)]*dimension, size, num_elite, sigma_init, extra_std, seed_number+i)\n",
        "\n",
        "        temp_log = \"seed: \"+ str(seed_number+i) + \"\\npopulation: \" + str(results[-1][0]) + \"\\nfitness: \" + str(results[-1][1]) + \"\\nevaluation: \" + str(results[-1][2]) + \"\\n----------------------------------\\n\"\n",
        "        tolog=tolog + temp_log\n",
        "        #print(temp_log)\n",
        "\n",
        "        \n",
        "        serialize(results,Exact_Location_serialized )\n",
        "        log_progress(results, Exact_Location_log)\n",
        "\n",
        "      log_summerize(tolog,Exact_Location_log_summaized)\n",
        "\n",
        "\n"
      ]
    },
    {
      "cell_type": "markdown",
      "metadata": {
        "id": "w_P2qfWXQNXK"
      },
      "source": [
        "# Create instances"
      ]
    },
    {
      "cell_type": "markdown",
      "metadata": {
        "id": "BY_7G3wFQwOD"
      },
      "source": [
        "## DE"
      ]
    },
    {
      "cell_type": "code",
      "execution_count": null,
      "metadata": {
        "id": "Te7oItgvQXWp"
      },
      "outputs": [],
      "source": [
        "initialize_de('Sphere',[2,10],[32, 64, 128, 256, 512, 1024])"
      ]
    },
    {
      "cell_type": "code",
      "execution_count": null,
      "metadata": {
        "id": "ezaxI-uxQYFA"
      },
      "outputs": [],
      "source": [
        "initialize_de('Zakharov',[2,10],[32, 64, 128, 256, 512, 1024])"
      ]
    },
    {
      "cell_type": "code",
      "execution_count": null,
      "metadata": {
        "id": "kkcYyBAbQeG5"
      },
      "outputs": [],
      "source": [
        "initialize_de('Rosenbrock',[2,10],[32, 64, 128, 256, 512, 1024])"
      ]
    },
    {
      "cell_type": "code",
      "execution_count": null,
      "metadata": {
        "id": "D-QxFpBXQe3I"
      },
      "outputs": [],
      "source": [
        "initialize_de('Michalewicz',[2,10],[32, 64, 128, 256, 512, 1024])"
      ]
    },
    {
      "cell_type": "code",
      "execution_count": null,
      "metadata": {
        "id": "aV5yNuUWQfma"
      },
      "outputs": [],
      "source": [
        "initialize_de('Ackley',[2,10],[32, 64, 128, 256, 512, 1024])"
      ]
    },
    {
      "cell_type": "markdown",
      "metadata": {
        "id": "fHF4GEkCQyAc"
      },
      "source": [
        "## CEM"
      ]
    },
    {
      "cell_type": "code",
      "execution_count": null,
      "metadata": {
        "id": "aOCHN6b3Qovp"
      },
      "outputs": [],
      "source": [
        "initialize_cem('Sphere',[2,10],[32, 64, 128, 256, 512, 1024])"
      ]
    },
    {
      "cell_type": "code",
      "execution_count": null,
      "metadata": {
        "id": "ZDA9Dio7QsXe"
      },
      "outputs": [],
      "source": [
        "initialize_cem('Zakharov',[2,10],[32, 64, 128, 256, 512, 1024])"
      ]
    },
    {
      "cell_type": "code",
      "execution_count": null,
      "metadata": {
        "id": "c4KfZ66VQu0f"
      },
      "outputs": [],
      "source": [
        "initialize_cem('Rosenbrock',[2,10],[32, 64, 128, 256, 512, 1024])"
      ]
    },
    {
      "cell_type": "code",
      "execution_count": null,
      "metadata": {
        "id": "QChZug0sQvNR"
      },
      "outputs": [],
      "source": [
        "initialize_cem('Michalewicz',[2,10],[32, 64, 128, 256, 512, 1024])"
      ]
    },
    {
      "cell_type": "code",
      "execution_count": null,
      "metadata": {
        "id": "yMDt-BPsQvqo"
      },
      "outputs": [],
      "source": [
        "initialize_cem('Ackley',[2,10],[32, 64, 128, 256, 512, 1024])"
      ]
    },
    {
      "cell_type": "markdown",
      "metadata": {
        "id": "kzt84x-KRB9x"
      },
      "source": [
        "# Define deserialize and misc functions"
      ]
    },
    {
      "cell_type": "code",
      "execution_count": 3,
      "metadata": {
        "id": "cyzTOari7IMS"
      },
      "outputs": [],
      "source": [
        "import os, glob\n",
        "\n",
        "def deserialize(func,method,dim,pop_size):\n",
        "\n",
        "  path = './Serialized/'+func\n",
        "\n",
        "  all_res=[]\n",
        "  all_res_best=[]\n",
        "  for filename in glob.glob(os.path.join(path, '*.txt')):\n",
        "\n",
        "    with open(os.path.join(os.getcwd(), filename), 'r') as f:\n",
        "      base = os.path.basename(f.name)\n",
        "      name = str(os.path.splitext(base)[0]).split('_')\n",
        "      if name[0] == func and name[1] == method and name[2] ==dim and name[3] == pop_size:\n",
        "        all_res.append(read_file(f.name))\n",
        "        all_res_best.append(all_res[-1][-1])\n",
        "\n",
        "  return all_res,all_res_best"
      ]
    },
    {
      "cell_type": "code",
      "execution_count": 4,
      "metadata": {
        "id": "5sFPTqU_RG6q"
      },
      "outputs": [],
      "source": [
        "def generate_eval_index(obj):\n",
        "  least=9999999999999999\n",
        "  evals = []\n",
        "  for seed_index in range(0,len(obj)):\n",
        "    least=min(least,obj[seed_index][-1][2])\n",
        "  \n",
        "  eval_index=[]\n",
        "  step = math.ceil(least/20)\n",
        "  for i in range(1,least,step):\n",
        "    eval_index.append(i)\n",
        "  return eval_index\n",
        "def generate_eval_index_2(bound):\n",
        "  res = []\n",
        "  for i in range(0,bound+1,round(bound/20)):\n",
        "    res.append(i)\n",
        "  return res"
      ]
    },
    {
      "cell_type": "code",
      "execution_count": 7,
      "metadata": {
        "id": "FmlR931QRJJ9"
      },
      "outputs": [],
      "source": [
        "def mean_eval_fitness(obj,eval_index):\n",
        "\n",
        "  eval_dict,fitness_dict={},{}\n",
        "  fitness_according_to_eval_index = {}\n",
        "  for instance in range(0,len(obj)):\n",
        "    if instance not in eval_dict:\n",
        "      eval_dict[instance]=[]\n",
        "    if instance not in fitness_dict:\n",
        "      fitness_dict[instance]=[]\n",
        "    for gen in range(0,len(obj[instance])):\n",
        "          eval_dict[instance].append(obj[instance][gen][2])\n",
        "          fitness_dict[instance].append(obj[instance][gen][1])\n",
        "\n",
        "  for i in range(0,len(eval_dict)):\n",
        "    fitness_according_to_eval_index[i] = np.interp(eval_index, eval_dict[i], fitness_dict[i])\n",
        "\n",
        "  fitness_according_to_eval_index_mean =[0] * len(eval_index)\n",
        "  fitness_according_to_eval_index_std={}\n",
        "  for i in fitness_according_to_eval_index:\n",
        "    fitness_according_to_eval_index_mean= fitness_according_to_eval_index_mean + fitness_according_to_eval_index[i]\n",
        "\n",
        "    for index in range(0,len(fitness_according_to_eval_index[i])):\n",
        "      if index not in fitness_according_to_eval_index_std:\n",
        "        fitness_according_to_eval_index_std[index]=[]\n",
        "      fitness_according_to_eval_index_std[index].append(fitness_according_to_eval_index[i][index])\n",
        "    \n",
        "  temp_fitness_according_to_eval_index_std = []\n",
        "  for key in fitness_according_to_eval_index_std:\n",
        "    temp_fitness_according_to_eval_index_std.append(np.std(fitness_according_to_eval_index_std[key]))\n",
        "  \n",
        "  fitness_according_to_eval_index_std = temp_fitness_according_to_eval_index_std\n",
        "  return np.array(fitness_according_to_eval_index_mean),np.array(fitness_according_to_eval_index_std)\n",
        "\n"
      ]
    },
    {
      "cell_type": "markdown",
      "metadata": {
        "id": "OmUXENoiqBou"
      },
      "source": [
        "# Plot and tabulate"
      ]
    },
    {
      "cell_type": "code",
      "execution_count": 11,
      "metadata": {
        "id": "3zCr9yyr7VkV"
      },
      "outputs": [],
      "source": [
        "import matplotlib.pyplot as plt\n",
        "import pandas as pd\n",
        "import scipy.stats as stats\n",
        "from IPython.display import display\n",
        "def Plot(func,dim):\n",
        "  plot_name = func+'_'+dim\n",
        "\n",
        "  model1,_ = deserialize(func,'DE',dim,'128')\n",
        "  model1_title = 'DE_128'\n",
        "\n",
        "  model2,_ = deserialize(func,'DE',dim,'1024')\n",
        "  model2_title = 'DE_1024'\n",
        "\n",
        "  model3,_ = deserialize(func,'CEM',dim,'128')\n",
        "  model3_title = 'CEM_128'\n",
        "\n",
        "  model4,_ = deserialize(func,'CEM',dim,'1024')\n",
        "  model4_title = 'CEM_1024'\n",
        "\n",
        "  mean1,std1=mean_eval_fitness(model1,generate_eval_index_2(100000))\n",
        "\n",
        "  mean2,std2=mean_eval_fitness(model2,generate_eval_index_2(100000))\n",
        "\n",
        "  mean3,std3=mean_eval_fitness(model3,generate_eval_index_2(100000))\n",
        "\n",
        "  mean4,std4=mean_eval_fitness(model4,generate_eval_index_2(100000))\n",
        "\n",
        "  x_axis_index = generate_eval_index_2(100000)\n",
        "  plt.plot(x_axis_index, mean1, '-*')\n",
        "  plt.fill_between(x_axis_index, mean1-std1, mean1 + std1,  alpha=0.7, label =model1_title)\n",
        "\n",
        "  plt.plot(x_axis_index, mean2, '-*')\n",
        "  plt.fill_between(x_axis_index, mean2-std2, mean2 + std2,  alpha=0.7, label =model2_title)\n",
        "\n",
        "  plt.plot(x_axis_index, mean3, '-*')\n",
        "  plt.fill_between(x_axis_index, mean3-std3, mean3 + std3,  alpha=0.7, label =model3_title)\n",
        "\n",
        "  plt.plot(x_axis_index, mean4, '-*')\n",
        "  plt.fill_between(x_axis_index, mean4-std4, mean4 + std4,  alpha=0.7, label =model4_title)\n",
        "\n",
        "  plt.xlabel(\"Objective function\")\n",
        "  plt.ylabel(\"Number of function evaluations\")\n",
        "  if func != 'Michalewicz':\n",
        "    plt.yscale('log')\n",
        "  plt.title(plot_name)\n",
        "  plt.legend(loc ='upper right')\n",
        "\n",
        "  plt.show()\n",
        "  \n",
        "global Hightlight_index\n",
        "Hightlight_index=[]\n",
        "\n",
        "def tabulate(func,dim):\n",
        "  pop_size= [32,64,128,256,512,1024]\n",
        "\n",
        "  DE_List={}\n",
        "  DE_mean_list = {}\n",
        "  DE_std_list = {}\n",
        "\n",
        "  CEM_List={}\n",
        "  CEM_mean_list = {}\n",
        "  CEM_std_list = {}\n",
        "\n",
        "  t_list = {}\n",
        "\n",
        "  for size in pop_size:\n",
        "    _,DE_List[size] = deserialize(func,'DE',dim,str(size))\n",
        "    DE_mean_list[size] = round(np.mean([DE_List[size][i][1] for i in range(len(DE_List[size]))]),5)\n",
        "    DE_std_list[size] = round(np.std([DE_List[size][i][1] for i in range(len(DE_List[size]))]),5)\n",
        "\n",
        "    _,CEM_List[size] = deserialize(func,'CEM',dim,str(size))\n",
        "    CEM_mean_list[size] = round(np.mean([CEM_List[size][i][1] for i in range(len(CEM_List[size]))]),5)\n",
        "    CEM_std_list[size] = round(np.std([CEM_List[size][i][1] for i in range(len(CEM_List[size]))]),5)\n",
        "\n",
        "    _,t_list[size]= stats.ttest_ind(a=[ DE_mean_list[size] , DE_std_list[size]], b=[CEM_mean_list[size] , CEM_std_list[size]], equal_var=True)\n",
        "\n",
        "\n",
        "  \n",
        "  a = pd.DataFrame.from_dict(DE_mean_list,orient='index',columns=['DE_mean'])\n",
        "  b = pd.DataFrame.from_dict(DE_std_list,orient='index',columns=['DE_std'])\n",
        "\n",
        "  c= pd.DataFrame.from_dict(CEM_mean_list,orient='index',columns=['CEM_mean'])\n",
        "  d= pd.DataFrame.from_dict(CEM_std_list,orient='index',columns=['CEM_std'])\n",
        "\n",
        "  t = pd.DataFrame.from_dict(t_list,orient='index',columns=['p_value'])\n",
        "\n",
        "  res =  pd.concat([a, b,c,d,t],axis=1).rename_axis('pop size', axis=1)\n",
        "\n",
        "  #------- hightlighting cells ------\n",
        "  def highlight_cells(x):\n",
        "    global Hightlight_index\n",
        "    df = x.copy()\n",
        "    #set default color\n",
        "    #df.loc[:,:] = 'background-color: papayawhip' \n",
        "    df.loc[:,:] = '' \n",
        "    #set particular cell colors\n",
        "    for item in Hightlight_index:\n",
        "      df.iloc[item[0],item[1]]='font-weight: bold'\n",
        "    #df.iloc[0,0] = 'background-color: red'\n",
        "    #df.iloc[1,1] = 'background-color: orange'\n",
        "    return df \n",
        "  global Hightlight_index\n",
        "  Hightlight_index=[]\n",
        "\n",
        "  current_row=0\n",
        "  for index, row in res.iterrows():\n",
        "\n",
        "    if row['DE_mean'] < row['CEM_mean']:\n",
        "      Hightlight_index.append([current_row,0])\n",
        "      Hightlight_index.append([current_row,1])\n",
        "    else:\n",
        "      Hightlight_index.append([current_row,2])\n",
        "      Hightlight_index.append([current_row,3])\n",
        "\n",
        "    current_row=current_row+1\n",
        "\n",
        "\n",
        "  res = res.style.apply(highlight_cells, axis=None)\n",
        "  display(res)"
      ]
    },
    {
      "cell_type": "code",
      "execution_count": 104,
      "metadata": {
        "id": "lTNSMkC0A6he"
      },
      "outputs": [],
      "source": [
        "def tabulate_plot(func,dim):\n",
        "  tabulate(func,dim)\n",
        "  Plot(func,dim)"
      ]
    },
    {
      "cell_type": "code",
      "execution_count": 105,
      "metadata": {
        "colab": {
          "base_uri": "https://localhost:8080/",
          "height": 516
        },
        "id": "55cUUKh1uajp",
        "outputId": "c8ee46b3-b8e0-48fc-a802-c5a055e4a442"
      },
      "outputs": [
        {
          "data": {
            "text/html": [
              "<style type=\"text/css\">\n",
              "#T_e320d_row0_col0, #T_e320d_row0_col1, #T_e320d_row1_col0, #T_e320d_row1_col1, #T_e320d_row2_col0, #T_e320d_row2_col1, #T_e320d_row3_col0, #T_e320d_row3_col1, #T_e320d_row4_col0, #T_e320d_row4_col1, #T_e320d_row5_col0, #T_e320d_row5_col1 {\n",
              "  font-weight: bold;\n",
              "}\n",
              "</style>\n",
              "<table id=\"T_e320d_\" class=\"dataframe\">\n",
              "  <thead>\n",
              "    <tr>\n",
              "      <th class=\"index_name level0\" >pop size</th>\n",
              "      <th class=\"col_heading level0 col0\" >DE_mean</th>\n",
              "      <th class=\"col_heading level0 col1\" >DE_std</th>\n",
              "      <th class=\"col_heading level0 col2\" >CEM_mean</th>\n",
              "      <th class=\"col_heading level0 col3\" >CEM_std</th>\n",
              "      <th class=\"col_heading level0 col4\" >p_value</th>\n",
              "    </tr>\n",
              "  </thead>\n",
              "  <tbody>\n",
              "    <tr>\n",
              "      <th id=\"T_e320d_level0_row0\" class=\"row_heading level0 row0\" >32</th>\n",
              "      <td id=\"T_e320d_row0_col0\" class=\"data row0 col0\" >0.004100</td>\n",
              "      <td id=\"T_e320d_row0_col1\" class=\"data row0 col1\" >0.003190</td>\n",
              "      <td id=\"T_e320d_row0_col2\" class=\"data row0 col2\" >0.016770</td>\n",
              "      <td id=\"T_e320d_row0_col3\" class=\"data row0 col3\" >0.003100</td>\n",
              "      <td id=\"T_e320d_row0_col4\" class=\"data row0 col4\" >0.455432</td>\n",
              "    </tr>\n",
              "    <tr>\n",
              "      <th id=\"T_e320d_level0_row1\" class=\"row_heading level0 row1\" >64</th>\n",
              "      <td id=\"T_e320d_row1_col0\" class=\"data row1 col0\" >0.004050</td>\n",
              "      <td id=\"T_e320d_row1_col1\" class=\"data row1 col1\" >0.001790</td>\n",
              "      <td id=\"T_e320d_row1_col2\" class=\"data row1 col2\" >0.020260</td>\n",
              "      <td id=\"T_e320d_row1_col3\" class=\"data row1 col3\" >0.013000</td>\n",
              "      <td id=\"T_e320d_row1_col4\" class=\"data row1 col4\" >0.069029</td>\n",
              "    </tr>\n",
              "    <tr>\n",
              "      <th id=\"T_e320d_level0_row2\" class=\"row_heading level0 row2\" >128</th>\n",
              "      <td id=\"T_e320d_row2_col0\" class=\"data row2 col0\" >0.003820</td>\n",
              "      <td id=\"T_e320d_row2_col1\" class=\"data row2 col1\" >0.002270</td>\n",
              "      <td id=\"T_e320d_row2_col2\" class=\"data row2 col2\" >0.014160</td>\n",
              "      <td id=\"T_e320d_row2_col3\" class=\"data row2 col3\" >0.003790</td>\n",
              "      <td id=\"T_e320d_row2_col4\" class=\"data row2 col4\" >0.375390</td>\n",
              "    </tr>\n",
              "    <tr>\n",
              "      <th id=\"T_e320d_level0_row3\" class=\"row_heading level0 row3\" >256</th>\n",
              "      <td id=\"T_e320d_row3_col0\" class=\"data row3 col0\" >0.005650</td>\n",
              "      <td id=\"T_e320d_row3_col1\" class=\"data row3 col1\" >0.002720</td>\n",
              "      <td id=\"T_e320d_row3_col2\" class=\"data row3 col2\" >0.013240</td>\n",
              "      <td id=\"T_e320d_row3_col3\" class=\"data row3 col3\" >0.001540</td>\n",
              "      <td id=\"T_e320d_row3_col4\" class=\"data row3 col4\" >0.648226</td>\n",
              "    </tr>\n",
              "    <tr>\n",
              "      <th id=\"T_e320d_level0_row4\" class=\"row_heading level0 row4\" >512</th>\n",
              "      <td id=\"T_e320d_row4_col0\" class=\"data row4 col0\" >0.003900</td>\n",
              "      <td id=\"T_e320d_row4_col1\" class=\"data row4 col1\" >0.002580</td>\n",
              "      <td id=\"T_e320d_row4_col2\" class=\"data row4 col2\" >0.014450</td>\n",
              "      <td id=\"T_e320d_row4_col3\" class=\"data row4 col3\" >0.002940</td>\n",
              "      <td id=\"T_e320d_row4_col4\" class=\"data row4 col4\" >0.445752</td>\n",
              "    </tr>\n",
              "    <tr>\n",
              "      <th id=\"T_e320d_level0_row5\" class=\"row_heading level0 row5\" >1024</th>\n",
              "      <td id=\"T_e320d_row5_col0\" class=\"data row5 col0\" >0.005880</td>\n",
              "      <td id=\"T_e320d_row5_col1\" class=\"data row5 col1\" >0.002840</td>\n",
              "      <td id=\"T_e320d_row5_col2\" class=\"data row5 col2\" >0.015960</td>\n",
              "      <td id=\"T_e320d_row5_col3\" class=\"data row5 col3\" >0.004250</td>\n",
              "      <td id=\"T_e320d_row5_col4\" class=\"data row5 col4\" >0.442490</td>\n",
              "    </tr>\n",
              "  </tbody>\n",
              "</table>\n"
            ],
            "text/plain": [
              "<pandas.io.formats.style.Styler at 0x7f19be01ef90>"
            ]
          },
          "metadata": {},
          "output_type": "display_data"
        },
        {
          "data": {
            "image/png": "[encoded data removed]",
            "text/plain": [
              "<Figure size 432x288 with 1 Axes>"
            ]
          },
          "metadata": {
            "needs_background": "light"
          },
          "output_type": "display_data"
        }
      ],
      "source": [
        "#Sphere - 2\n",
        "tabulate_plot(\"Sphere\",'2')"
      ]
    },
    {
      "cell_type": "code",
      "execution_count": 106,
      "metadata": {
        "colab": {
          "base_uri": "https://localhost:8080/",
          "height": 516
        },
        "id": "I8aurm_oAxjk",
        "outputId": "a63a0315-9f43-4edc-8bb9-a56a6fa6d05c"
      },
      "outputs": [
        {
          "data": {
            "text/html": [
              "<style type=\"text/css\">\n",
              "#T_0566c_row0_col0, #T_0566c_row0_col1, #T_0566c_row1_col0, #T_0566c_row1_col1, #T_0566c_row2_col0, #T_0566c_row2_col1, #T_0566c_row3_col0, #T_0566c_row3_col1, #T_0566c_row4_col0, #T_0566c_row4_col1, #T_0566c_row5_col0, #T_0566c_row5_col1 {\n",
              "  font-weight: bold;\n",
              "}\n",
              "</style>\n",
              "<table id=\"T_0566c_\" class=\"dataframe\">\n",
              "  <thead>\n",
              "    <tr>\n",
              "      <th class=\"index_name level0\" >pop size</th>\n",
              "      <th class=\"col_heading level0 col0\" >DE_mean</th>\n",
              "      <th class=\"col_heading level0 col1\" >DE_std</th>\n",
              "      <th class=\"col_heading level0 col2\" >CEM_mean</th>\n",
              "      <th class=\"col_heading level0 col3\" >CEM_std</th>\n",
              "      <th class=\"col_heading level0 col4\" >p_value</th>\n",
              "    </tr>\n",
              "  </thead>\n",
              "  <tbody>\n",
              "    <tr>\n",
              "      <th id=\"T_0566c_level0_row0\" class=\"row_heading level0 row0\" >32</th>\n",
              "      <td id=\"T_0566c_row0_col0\" class=\"data row0 col0\" >0.008450</td>\n",
              "      <td id=\"T_0566c_row0_col1\" class=\"data row0 col1\" >0.001430</td>\n",
              "      <td id=\"T_0566c_row0_col2\" class=\"data row0 col2\" >1.295890</td>\n",
              "      <td id=\"T_0566c_row0_col3\" class=\"data row0 col3\" >0.710190</td>\n",
              "      <td id=\"T_0566c_row0_col4\" class=\"data row0 col4\" >0.076368</td>\n",
              "    </tr>\n",
              "    <tr>\n",
              "      <th id=\"T_0566c_level0_row1\" class=\"row_heading level0 row1\" >64</th>\n",
              "      <td id=\"T_0566c_row1_col0\" class=\"data row1 col0\" >0.007500</td>\n",
              "      <td id=\"T_0566c_row1_col1\" class=\"data row1 col1\" >0.001520</td>\n",
              "      <td id=\"T_0566c_row1_col2\" class=\"data row1 col2\" >0.662380</td>\n",
              "      <td id=\"T_0566c_row1_col3\" class=\"data row1 col3\" >0.271930</td>\n",
              "      <td id=\"T_0566c_row1_col4\" class=\"data row1 col4\" >0.141310</td>\n",
              "    </tr>\n",
              "    <tr>\n",
              "      <th id=\"T_0566c_level0_row2\" class=\"row_heading level0 row2\" >128</th>\n",
              "      <td id=\"T_0566c_row2_col0\" class=\"data row2 col0\" >0.008080</td>\n",
              "      <td id=\"T_0566c_row2_col1\" class=\"data row2 col1\" >0.001170</td>\n",
              "      <td id=\"T_0566c_row2_col2\" class=\"data row2 col2\" >0.589330</td>\n",
              "      <td id=\"T_0566c_row2_col3\" class=\"data row2 col3\" >0.165250</td>\n",
              "      <td id=\"T_0566c_row2_col4\" class=\"data row2 col4\" >0.220947</td>\n",
              "    </tr>\n",
              "    <tr>\n",
              "      <th id=\"T_0566c_level0_row3\" class=\"row_heading level0 row3\" >256</th>\n",
              "      <td id=\"T_0566c_row3_col0\" class=\"data row3 col0\" >0.007520</td>\n",
              "      <td id=\"T_0566c_row3_col1\" class=\"data row3 col1\" >0.001790</td>\n",
              "      <td id=\"T_0566c_row3_col2\" class=\"data row3 col2\" >0.516560</td>\n",
              "      <td id=\"T_0566c_row3_col3\" class=\"data row3 col3\" >0.071480</td>\n",
              "      <td id=\"T_0566c_row3_col4\" class=\"data row3 col4\" >0.323198</td>\n",
              "    </tr>\n",
              "    <tr>\n",
              "      <th id=\"T_0566c_level0_row4\" class=\"row_heading level0 row4\" >512</th>\n",
              "      <td id=\"T_0566c_row4_col0\" class=\"data row4 col0\" >0.007250</td>\n",
              "      <td id=\"T_0566c_row4_col1\" class=\"data row4 col1\" >0.001950</td>\n",
              "      <td id=\"T_0566c_row4_col2\" class=\"data row4 col2\" >0.422230</td>\n",
              "      <td id=\"T_0566c_row4_col3\" class=\"data row4 col3\" >0.039330</td>\n",
              "      <td id=\"T_0566c_row4_col4\" class=\"data row4 col4\" >0.358925</td>\n",
              "    </tr>\n",
              "    <tr>\n",
              "      <th id=\"T_0566c_level0_row5\" class=\"row_heading level0 row5\" >1024</th>\n",
              "      <td id=\"T_0566c_row5_col0\" class=\"data row5 col0\" >0.007640</td>\n",
              "      <td id=\"T_0566c_row5_col1\" class=\"data row5 col1\" >0.001730</td>\n",
              "      <td id=\"T_0566c_row5_col2\" class=\"data row5 col2\" >0.401600</td>\n",
              "      <td id=\"T_0566c_row5_col3\" class=\"data row5 col3\" >0.056790</td>\n",
              "      <td id=\"T_0566c_row5_col4\" class=\"data row5 col4\" >0.322674</td>\n",
              "    </tr>\n",
              "  </tbody>\n",
              "</table>\n"
            ],
            "text/plain": [
              "<pandas.io.formats.style.Styler at 0x7f19be017710>"
            ]
          },
          "metadata": {},
          "output_type": "display_data"
        },
        {
          "data": {
            "image/png": "[encoded data removed]",
            "text/plain": [
              "<Figure size 432x288 with 1 Axes>"
            ]
          },
          "metadata": {
            "needs_background": "light"
          },
          "output_type": "display_data"
        }
      ],
      "source": [
        "#Sphere - 10\n",
        "tabulate_plot(\"Sphere\",'10')"
      ]
    },
    {
      "cell_type": "code",
      "execution_count": 107,
      "metadata": {
        "colab": {
          "base_uri": "https://localhost:8080/",
          "height": 516
        },
        "id": "SI2-EouiBJiy",
        "outputId": "e5811832-6338-4398-b19f-f3cec03c265e"
      },
      "outputs": [
        {
          "data": {
            "text/html": [
              "<style type=\"text/css\">\n",
              "#T_e7e3b_row0_col0, #T_e7e3b_row0_col1, #T_e7e3b_row1_col0, #T_e7e3b_row1_col1, #T_e7e3b_row2_col0, #T_e7e3b_row2_col1, #T_e7e3b_row3_col0, #T_e7e3b_row3_col1, #T_e7e3b_row4_col0, #T_e7e3b_row4_col1, #T_e7e3b_row5_col0, #T_e7e3b_row5_col1 {\n",
              "  font-weight: bold;\n",
              "}\n",
              "</style>\n",
              "<table id=\"T_e7e3b_\" class=\"dataframe\">\n",
              "  <thead>\n",
              "    <tr>\n",
              "      <th class=\"index_name level0\" >pop size</th>\n",
              "      <th class=\"col_heading level0 col0\" >DE_mean</th>\n",
              "      <th class=\"col_heading level0 col1\" >DE_std</th>\n",
              "      <th class=\"col_heading level0 col2\" >CEM_mean</th>\n",
              "      <th class=\"col_heading level0 col3\" >CEM_std</th>\n",
              "      <th class=\"col_heading level0 col4\" >p_value</th>\n",
              "    </tr>\n",
              "  </thead>\n",
              "  <tbody>\n",
              "    <tr>\n",
              "      <th id=\"T_e7e3b_level0_row0\" class=\"row_heading level0 row0\" >32</th>\n",
              "      <td id=\"T_e7e3b_row0_col0\" class=\"data row0 col0\" >0.002670</td>\n",
              "      <td id=\"T_e7e3b_row0_col1\" class=\"data row0 col1\" >0.002670</td>\n",
              "      <td id=\"T_e7e3b_row0_col2\" class=\"data row0 col2\" >6.992470</td>\n",
              "      <td id=\"T_e7e3b_row0_col3\" class=\"data row0 col3\" >4.236860</td>\n",
              "      <td id=\"T_e7e3b_row0_col4\" class=\"data row0 col4\" >0.055321</td>\n",
              "    </tr>\n",
              "    <tr>\n",
              "      <th id=\"T_e7e3b_level0_row1\" class=\"row_heading level0 row1\" >64</th>\n",
              "      <td id=\"T_e7e3b_row1_col0\" class=\"data row1 col0\" >0.003570</td>\n",
              "      <td id=\"T_e7e3b_row1_col1\" class=\"data row1 col1\" >0.002310</td>\n",
              "      <td id=\"T_e7e3b_row1_col2\" class=\"data row1 col2\" >8.724950</td>\n",
              "      <td id=\"T_e7e3b_row1_col3\" class=\"data row1 col3\" >2.820940</td>\n",
              "      <td id=\"T_e7e3b_row1_col4\" class=\"data row1 col4\" >0.189824</td>\n",
              "    </tr>\n",
              "    <tr>\n",
              "      <th id=\"T_e7e3b_level0_row2\" class=\"row_heading level0 row2\" >128</th>\n",
              "      <td id=\"T_e7e3b_row2_col0\" class=\"data row2 col0\" >0.004810</td>\n",
              "      <td id=\"T_e7e3b_row2_col1\" class=\"data row2 col1\" >0.002840</td>\n",
              "      <td id=\"T_e7e3b_row2_col2\" class=\"data row2 col2\" >9.539460</td>\n",
              "      <td id=\"T_e7e3b_row2_col3\" class=\"data row2 col3\" >3.748710</td>\n",
              "      <td id=\"T_e7e3b_row2_col4\" class=\"data row2 col4\" >0.148821</td>\n",
              "    </tr>\n",
              "    <tr>\n",
              "      <th id=\"T_e7e3b_level0_row3\" class=\"row_heading level0 row3\" >256</th>\n",
              "      <td id=\"T_e7e3b_row3_col0\" class=\"data row3 col0\" >0.004390</td>\n",
              "      <td id=\"T_e7e3b_row3_col1\" class=\"data row3 col1\" >0.002610</td>\n",
              "      <td id=\"T_e7e3b_row3_col2\" class=\"data row3 col2\" >7.674830</td>\n",
              "      <td id=\"T_e7e3b_row3_col3\" class=\"data row3 col3\" >1.948490</td>\n",
              "      <td id=\"T_e7e3b_row3_col4\" class=\"data row3 col4\" >0.235101</td>\n",
              "    </tr>\n",
              "    <tr>\n",
              "      <th id=\"T_e7e3b_level0_row4\" class=\"row_heading level0 row4\" >512</th>\n",
              "      <td id=\"T_e7e3b_row4_col0\" class=\"data row4 col0\" >0.005410</td>\n",
              "      <td id=\"T_e7e3b_row4_col1\" class=\"data row4 col1\" >0.002550</td>\n",
              "      <td id=\"T_e7e3b_row4_col2\" class=\"data row4 col2\" >6.920140</td>\n",
              "      <td id=\"T_e7e3b_row4_col3\" class=\"data row4 col3\" >1.980390</td>\n",
              "      <td id=\"T_e7e3b_row4_col4\" class=\"data row4 col4\" >0.213632</td>\n",
              "    </tr>\n",
              "    <tr>\n",
              "      <th id=\"T_e7e3b_level0_row5\" class=\"row_heading level0 row5\" >1024</th>\n",
              "      <td id=\"T_e7e3b_row5_col0\" class=\"data row5 col0\" >0.005750</td>\n",
              "      <td id=\"T_e7e3b_row5_col1\" class=\"data row5 col1\" >0.002760</td>\n",
              "      <td id=\"T_e7e3b_row5_col2\" class=\"data row5 col2\" >7.289370</td>\n",
              "      <td id=\"T_e7e3b_row5_col3\" class=\"data row5 col3\" >2.051450</td>\n",
              "      <td id=\"T_e7e3b_row5_col4\" class=\"data row5 col4\" >0.216750</td>\n",
              "    </tr>\n",
              "  </tbody>\n",
              "</table>\n"
            ],
            "text/plain": [
              "<pandas.io.formats.style.Styler at 0x7f19be01e410>"
            ]
          },
          "metadata": {},
          "output_type": "display_data"
        },
        {
          "data": {
            "image/png": "[encoded data removed]",
            "text/plain": [
              "<Figure size 432x288 with 1 Axes>"
            ]
          },
          "metadata": {
            "needs_background": "light"
          },
          "output_type": "display_data"
        }
      ],
      "source": [
        "#Rosenbrock - 2\n",
        "tabulate_plot(\"Rosenbrock\",'2')"
      ]
    },
    {
      "cell_type": "code",
      "execution_count": 108,
      "metadata": {
        "colab": {
          "base_uri": "https://localhost:8080/",
          "height": 516
        },
        "id": "wd9GEShCBOeV",
        "outputId": "4e500c52-da97-402c-aa23-401cfd893940"
      },
      "outputs": [
        {
          "data": {
            "text/html": [
              "<style type=\"text/css\">\n",
              "#T_c7b41_row0_col0, #T_c7b41_row0_col1, #T_c7b41_row1_col0, #T_c7b41_row1_col1, #T_c7b41_row2_col0, #T_c7b41_row2_col1, #T_c7b41_row3_col0, #T_c7b41_row3_col1, #T_c7b41_row4_col0, #T_c7b41_row4_col1, #T_c7b41_row5_col0, #T_c7b41_row5_col1 {\n",
              "  font-weight: bold;\n",
              "}\n",
              "</style>\n",
              "<table id=\"T_c7b41_\" class=\"dataframe\">\n",
              "  <thead>\n",
              "    <tr>\n",
              "      <th class=\"index_name level0\" >pop size</th>\n",
              "      <th class=\"col_heading level0 col0\" >DE_mean</th>\n",
              "      <th class=\"col_heading level0 col1\" >DE_std</th>\n",
              "      <th class=\"col_heading level0 col2\" >CEM_mean</th>\n",
              "      <th class=\"col_heading level0 col3\" >CEM_std</th>\n",
              "      <th class=\"col_heading level0 col4\" >p_value</th>\n",
              "    </tr>\n",
              "  </thead>\n",
              "  <tbody>\n",
              "    <tr>\n",
              "      <th id=\"T_c7b41_level0_row0\" class=\"row_heading level0 row0\" >32</th>\n",
              "      <td id=\"T_c7b41_row0_col0\" class=\"data row0 col0\" >0.008370</td>\n",
              "      <td id=\"T_c7b41_row0_col1\" class=\"data row0 col1\" >0.000960</td>\n",
              "      <td id=\"T_c7b41_row0_col2\" class=\"data row0 col2\" >165.434390</td>\n",
              "      <td id=\"T_c7b41_row0_col3\" class=\"data row0 col3\" >130.915350</td>\n",
              "      <td id=\"T_c7b41_row0_col4\" class=\"data row0 col4\" >0.013299</td>\n",
              "    </tr>\n",
              "    <tr>\n",
              "      <th id=\"T_c7b41_level0_row1\" class=\"row_heading level0 row1\" >64</th>\n",
              "      <td id=\"T_c7b41_row1_col0\" class=\"data row1 col0\" >0.008970</td>\n",
              "      <td id=\"T_c7b41_row1_col1\" class=\"data row1 col1\" >0.000670</td>\n",
              "      <td id=\"T_c7b41_row1_col2\" class=\"data row1 col2\" >105.965810</td>\n",
              "      <td id=\"T_c7b41_row1_col3\" class=\"data row1 col3\" >88.205790</td>\n",
              "      <td id=\"T_c7b41_row1_col4\" class=\"data row1 col4\" >0.008263</td>\n",
              "    </tr>\n",
              "    <tr>\n",
              "      <th id=\"T_c7b41_level0_row2\" class=\"row_heading level0 row2\" >128</th>\n",
              "      <td id=\"T_c7b41_row2_col0\" class=\"data row2 col0\" >0.006970</td>\n",
              "      <td id=\"T_c7b41_row2_col1\" class=\"data row2 col1\" >0.001840</td>\n",
              "      <td id=\"T_c7b41_row2_col2\" class=\"data row2 col2\" >119.331590</td>\n",
              "      <td id=\"T_c7b41_row2_col3\" class=\"data row2 col3\" >71.334270</td>\n",
              "      <td id=\"T_c7b41_row2_col4\" class=\"data row2 col4\" >0.057925</td>\n",
              "    </tr>\n",
              "    <tr>\n",
              "      <th id=\"T_c7b41_level0_row3\" class=\"row_heading level0 row3\" >256</th>\n",
              "      <td id=\"T_c7b41_row3_col0\" class=\"data row3 col0\" >0.007680</td>\n",
              "      <td id=\"T_c7b41_row3_col1\" class=\"data row3 col1\" >0.001430</td>\n",
              "      <td id=\"T_c7b41_row3_col2\" class=\"data row3 col2\" >100.670420</td>\n",
              "      <td id=\"T_c7b41_row3_col3\" class=\"data row3 col3\" >39.004450</td>\n",
              "      <td id=\"T_c7b41_row3_col4\" class=\"data row3 col4\" >0.151777</td>\n",
              "    </tr>\n",
              "    <tr>\n",
              "      <th id=\"T_c7b41_level0_row4\" class=\"row_heading level0 row4\" >512</th>\n",
              "      <td id=\"T_c7b41_row4_col0\" class=\"data row4 col0\" >0.008690</td>\n",
              "      <td id=\"T_c7b41_row4_col1\" class=\"data row4 col1\" >0.001010</td>\n",
              "      <td id=\"T_c7b41_row4_col2\" class=\"data row4 col2\" >91.568520</td>\n",
              "      <td id=\"T_c7b41_row4_col3\" class=\"data row4 col3\" >26.214050</td>\n",
              "      <td id=\"T_c7b41_row4_col4\" class=\"data row4 col4\" >0.213323</td>\n",
              "    </tr>\n",
              "    <tr>\n",
              "      <th id=\"T_c7b41_level0_row5\" class=\"row_heading level0 row5\" >1024</th>\n",
              "      <td id=\"T_c7b41_row5_col0\" class=\"data row5 col0\" >0.307180</td>\n",
              "      <td id=\"T_c7b41_row5_col1\" class=\"data row5 col1\" >0.053150</td>\n",
              "      <td id=\"T_c7b41_row5_col2\" class=\"data row5 col2\" >77.950720</td>\n",
              "      <td id=\"T_c7b41_row5_col3\" class=\"data row5 col3\" >24.277150</td>\n",
              "      <td id=\"T_c7b41_row5_col4\" class=\"data row5 col4\" >0.198138</td>\n",
              "    </tr>\n",
              "  </tbody>\n",
              "</table>\n"
            ],
            "text/plain": [
              "<pandas.io.formats.style.Styler at 0x7f19be0c1210>"
            ]
          },
          "metadata": {},
          "output_type": "display_data"
        },
        {
          "data": {
            "image/png": "[encoded data removed]",
            "text/plain": [
              "<Figure size 432x288 with 1 Axes>"
            ]
          },
          "metadata": {
            "needs_background": "light"
          },
          "output_type": "display_data"
        }
      ],
      "source": [
        "#Rosenbrock - 10\n",
        "tabulate_plot(\"Rosenbrock\",'10')"
      ]
    },
    {
      "cell_type": "code",
      "execution_count": 109,
      "metadata": {
        "colab": {
          "base_uri": "https://localhost:8080/",
          "height": 516
        },
        "id": "Gn0Gddn6BSzA",
        "outputId": "91c4b6ee-6e36-40ef-9c71-0faaf0665f1c"
      },
      "outputs": [
        {
          "data": {
            "text/html": [
              "<style type=\"text/css\">\n",
              "#T_3021a_row0_col0, #T_3021a_row0_col1, #T_3021a_row1_col0, #T_3021a_row1_col1, #T_3021a_row2_col0, #T_3021a_row2_col1, #T_3021a_row3_col0, #T_3021a_row3_col1, #T_3021a_row4_col0, #T_3021a_row4_col1, #T_3021a_row5_col0, #T_3021a_row5_col1 {\n",
              "  font-weight: bold;\n",
              "}\n",
              "</style>\n",
              "<table id=\"T_3021a_\" class=\"dataframe\">\n",
              "  <thead>\n",
              "    <tr>\n",
              "      <th class=\"index_name level0\" >pop size</th>\n",
              "      <th class=\"col_heading level0 col0\" >DE_mean</th>\n",
              "      <th class=\"col_heading level0 col1\" >DE_std</th>\n",
              "      <th class=\"col_heading level0 col2\" >CEM_mean</th>\n",
              "      <th class=\"col_heading level0 col3\" >CEM_std</th>\n",
              "      <th class=\"col_heading level0 col4\" >p_value</th>\n",
              "    </tr>\n",
              "  </thead>\n",
              "  <tbody>\n",
              "    <tr>\n",
              "      <th id=\"T_3021a_level0_row0\" class=\"row_heading level0 row0\" >32</th>\n",
              "      <td id=\"T_3021a_row0_col0\" class=\"data row0 col0\" >0.005360</td>\n",
              "      <td id=\"T_3021a_row0_col1\" class=\"data row0 col1\" >0.002060</td>\n",
              "      <td id=\"T_3021a_row0_col2\" class=\"data row0 col2\" >0.666410</td>\n",
              "      <td id=\"T_3021a_row0_col3\" class=\"data row0 col3\" >0.175640</td>\n",
              "      <td id=\"T_3021a_row0_col4\" class=\"data row0 col4\" >0.231120</td>\n",
              "    </tr>\n",
              "    <tr>\n",
              "      <th id=\"T_3021a_level0_row1\" class=\"row_heading level0 row1\" >64</th>\n",
              "      <td id=\"T_3021a_row1_col0\" class=\"data row1 col0\" >0.006160</td>\n",
              "      <td id=\"T_3021a_row1_col1\" class=\"data row1 col1\" >0.002840</td>\n",
              "      <td id=\"T_3021a_row1_col2\" class=\"data row1 col2\" >1.188210</td>\n",
              "      <td id=\"T_3021a_row1_col3\" class=\"data row1 col3\" >1.108450</td>\n",
              "      <td id=\"T_3021a_row1_col4\" class=\"data row1 col4\" >0.001215</td>\n",
              "    </tr>\n",
              "    <tr>\n",
              "      <th id=\"T_3021a_level0_row2\" class=\"row_heading level0 row2\" >128</th>\n",
              "      <td id=\"T_3021a_row2_col0\" class=\"data row2 col0\" >0.006240</td>\n",
              "      <td id=\"T_3021a_row2_col1\" class=\"data row2 col1\" >0.001860</td>\n",
              "      <td id=\"T_3021a_row2_col2\" class=\"data row2 col2\" >1.056280</td>\n",
              "      <td id=\"T_3021a_row2_col3\" class=\"data row2 col3\" >0.918110</td>\n",
              "      <td id=\"T_3021a_row2_col4\" class=\"data row2 col4\" >0.004906</td>\n",
              "    </tr>\n",
              "    <tr>\n",
              "      <th id=\"T_3021a_level0_row3\" class=\"row_heading level0 row3\" >256</th>\n",
              "      <td id=\"T_3021a_row3_col0\" class=\"data row3 col0\" >0.007530</td>\n",
              "      <td id=\"T_3021a_row3_col1\" class=\"data row3 col1\" >0.002710</td>\n",
              "      <td id=\"T_3021a_row3_col2\" class=\"data row3 col2\" >1.029960</td>\n",
              "      <td id=\"T_3021a_row3_col3\" class=\"data row3 col3\" >0.893950</td>\n",
              "      <td id=\"T_3021a_row3_col4\" class=\"data row3 col4\" >0.005020</td>\n",
              "    </tr>\n",
              "    <tr>\n",
              "      <th id=\"T_3021a_level0_row4\" class=\"row_heading level0 row4\" >512</th>\n",
              "      <td id=\"T_3021a_row4_col0\" class=\"data row4 col0\" >0.006080</td>\n",
              "      <td id=\"T_3021a_row4_col1\" class=\"data row4 col1\" >0.002280</td>\n",
              "      <td id=\"T_3021a_row4_col2\" class=\"data row4 col2\" >1.359030</td>\n",
              "      <td id=\"T_3021a_row4_col3\" class=\"data row4 col3\" >1.001470</td>\n",
              "      <td id=\"T_3021a_row4_col4\" class=\"data row4 col4\" >0.022340</td>\n",
              "    </tr>\n",
              "    <tr>\n",
              "      <th id=\"T_3021a_level0_row5\" class=\"row_heading level0 row5\" >1024</th>\n",
              "      <td id=\"T_3021a_row5_col0\" class=\"data row5 col0\" >0.006390</td>\n",
              "      <td id=\"T_3021a_row5_col1\" class=\"data row5 col1\" >0.001700</td>\n",
              "      <td id=\"T_3021a_row5_col2\" class=\"data row5 col2\" >1.724970</td>\n",
              "      <td id=\"T_3021a_row5_col3\" class=\"data row5 col3\" >2.310250</td>\n",
              "      <td id=\"T_3021a_row5_col4\" class=\"data row5 col4\" >0.020477</td>\n",
              "    </tr>\n",
              "  </tbody>\n",
              "</table>\n"
            ],
            "text/plain": [
              "<pandas.io.formats.style.Styler at 0x7f19bb7c9110>"
            ]
          },
          "metadata": {},
          "output_type": "display_data"
        },
        {
          "data": {
            "image/png": "[encoded data removed]",
            "text/plain": [
              "<Figure size 432x288 with 1 Axes>"
            ]
          },
          "metadata": {
            "needs_background": "light"
          },
          "output_type": "display_data"
        }
      ],
      "source": [
        "#Ackley - 2\n",
        "tabulate_plot(\"Ackley\",'2')"
      ]
    },
    {
      "cell_type": "code",
      "execution_count": 110,
      "metadata": {
        "colab": {
          "base_uri": "https://localhost:8080/",
          "height": 516
        },
        "id": "DPdGwUJfBYfB",
        "outputId": "20bf0abd-5f4c-44ec-9b2e-dcd65463ae06"
      },
      "outputs": [
        {
          "data": {
            "text/html": [
              "<style type=\"text/css\">\n",
              "#T_255ae_row0_col0, #T_255ae_row0_col1, #T_255ae_row1_col0, #T_255ae_row1_col1, #T_255ae_row2_col0, #T_255ae_row2_col1, #T_255ae_row3_col0, #T_255ae_row3_col1, #T_255ae_row4_col0, #T_255ae_row4_col1, #T_255ae_row5_col0, #T_255ae_row5_col1 {\n",
              "  font-weight: bold;\n",
              "}\n",
              "</style>\n",
              "<table id=\"T_255ae_\" class=\"dataframe\">\n",
              "  <thead>\n",
              "    <tr>\n",
              "      <th class=\"index_name level0\" >pop size</th>\n",
              "      <th class=\"col_heading level0 col0\" >DE_mean</th>\n",
              "      <th class=\"col_heading level0 col1\" >DE_std</th>\n",
              "      <th class=\"col_heading level0 col2\" >CEM_mean</th>\n",
              "      <th class=\"col_heading level0 col3\" >CEM_std</th>\n",
              "      <th class=\"col_heading level0 col4\" >p_value</th>\n",
              "    </tr>\n",
              "  </thead>\n",
              "  <tbody>\n",
              "    <tr>\n",
              "      <th id=\"T_255ae_level0_row0\" class=\"row_heading level0 row0\" >32</th>\n",
              "      <td id=\"T_255ae_row0_col0\" class=\"data row0 col0\" >0.009340</td>\n",
              "      <td id=\"T_255ae_row0_col1\" class=\"data row0 col1\" >0.000660</td>\n",
              "      <td id=\"T_255ae_row0_col2\" class=\"data row0 col2\" >4.016090</td>\n",
              "      <td id=\"T_255ae_row0_col3\" class=\"data row0 col3\" >0.615400</td>\n",
              "      <td id=\"T_255ae_row0_col4\" class=\"data row0 col4\" >0.307114</td>\n",
              "    </tr>\n",
              "    <tr>\n",
              "      <th id=\"T_255ae_level0_row1\" class=\"row_heading level0 row1\" >64</th>\n",
              "      <td id=\"T_255ae_row1_col0\" class=\"data row1 col0\" >0.009070</td>\n",
              "      <td id=\"T_255ae_row1_col1\" class=\"data row1 col1\" >0.000840</td>\n",
              "      <td id=\"T_255ae_row1_col2\" class=\"data row1 col2\" >3.956060</td>\n",
              "      <td id=\"T_255ae_row1_col3\" class=\"data row1 col3\" >0.497300</td>\n",
              "      <td id=\"T_255ae_row1_col4\" class=\"data row1 col4\" >0.327602</td>\n",
              "    </tr>\n",
              "    <tr>\n",
              "      <th id=\"T_255ae_level0_row2\" class=\"row_heading level0 row2\" >128</th>\n",
              "      <td id=\"T_255ae_row2_col0\" class=\"data row2 col0\" >0.009390</td>\n",
              "      <td id=\"T_255ae_row2_col1\" class=\"data row2 col1\" >0.000850</td>\n",
              "      <td id=\"T_255ae_row2_col2\" class=\"data row2 col2\" >3.896460</td>\n",
              "      <td id=\"T_255ae_row2_col3\" class=\"data row2 col3\" >0.546930</td>\n",
              "      <td id=\"T_255ae_row2_col4\" class=\"data row2 col4\" >0.316695</td>\n",
              "    </tr>\n",
              "    <tr>\n",
              "      <th id=\"T_255ae_level0_row3\" class=\"row_heading level0 row3\" >256</th>\n",
              "      <td id=\"T_255ae_row3_col0\" class=\"data row3 col0\" >0.008370</td>\n",
              "      <td id=\"T_255ae_row3_col1\" class=\"data row3 col1\" >0.001070</td>\n",
              "      <td id=\"T_255ae_row3_col2\" class=\"data row3 col2\" >3.772110</td>\n",
              "      <td id=\"T_255ae_row3_col3\" class=\"data row3 col3\" >0.525760</td>\n",
              "      <td id=\"T_255ae_row3_col4\" class=\"data row3 col4\" >0.317388</td>\n",
              "    </tr>\n",
              "    <tr>\n",
              "      <th id=\"T_255ae_level0_row4\" class=\"row_heading level0 row4\" >512</th>\n",
              "      <td id=\"T_255ae_row4_col0\" class=\"data row4 col0\" >0.008780</td>\n",
              "      <td id=\"T_255ae_row4_col1\" class=\"data row4 col1\" >0.001100</td>\n",
              "      <td id=\"T_255ae_row4_col2\" class=\"data row4 col2\" >3.629430</td>\n",
              "      <td id=\"T_255ae_row4_col3\" class=\"data row4 col3\" >0.572270</td>\n",
              "      <td id=\"T_255ae_row4_col4\" class=\"data row4 col4\" >0.303910</td>\n",
              "    </tr>\n",
              "    <tr>\n",
              "      <th id=\"T_255ae_level0_row5\" class=\"row_heading level0 row5\" >1024</th>\n",
              "      <td id=\"T_255ae_row5_col0\" class=\"data row5 col0\" >0.008620</td>\n",
              "      <td id=\"T_255ae_row5_col1\" class=\"data row5 col1\" >0.000940</td>\n",
              "      <td id=\"T_255ae_row5_col2\" class=\"data row5 col2\" >3.401420</td>\n",
              "      <td id=\"T_255ae_row5_col3\" class=\"data row5 col3\" >0.628680</td>\n",
              "      <td id=\"T_255ae_row5_col4\" class=\"data row5 col4\" >0.284110</td>\n",
              "    </tr>\n",
              "  </tbody>\n",
              "</table>\n"
            ],
            "text/plain": [
              "<pandas.io.formats.style.Styler at 0x7f19bd52e390>"
            ]
          },
          "metadata": {},
          "output_type": "display_data"
        },
        {
          "data": {
            "image/png": "[encoded data removed]",
            "text/plain": [
              "<Figure size 432x288 with 1 Axes>"
            ]
          },
          "metadata": {
            "needs_background": "light"
          },
          "output_type": "display_data"
        }
      ],
      "source": [
        "#Ackley - 10\n",
        "tabulate_plot(\"Ackley\",'10')"
      ]
    },
    {
      "cell_type": "code",
      "execution_count": 111,
      "metadata": {
        "colab": {
          "base_uri": "https://localhost:8080/",
          "height": 516
        },
        "id": "TudPWNvzBcfZ",
        "outputId": "3b46cdd5-9ed7-485e-d17b-2326844df724"
      },
      "outputs": [
        {
          "data": {
            "text/html": [
              "<style type=\"text/css\">\n",
              "#T_9f5d7_row0_col0, #T_9f5d7_row0_col1, #T_9f5d7_row1_col0, #T_9f5d7_row1_col1, #T_9f5d7_row2_col0, #T_9f5d7_row2_col1, #T_9f5d7_row3_col0, #T_9f5d7_row3_col1, #T_9f5d7_row4_col0, #T_9f5d7_row4_col1, #T_9f5d7_row5_col0, #T_9f5d7_row5_col1 {\n",
              "  font-weight: bold;\n",
              "}\n",
              "</style>\n",
              "<table id=\"T_9f5d7_\" class=\"dataframe\">\n",
              "  <thead>\n",
              "    <tr>\n",
              "      <th class=\"index_name level0\" >pop size</th>\n",
              "      <th class=\"col_heading level0 col0\" >DE_mean</th>\n",
              "      <th class=\"col_heading level0 col1\" >DE_std</th>\n",
              "      <th class=\"col_heading level0 col2\" >CEM_mean</th>\n",
              "      <th class=\"col_heading level0 col3\" >CEM_std</th>\n",
              "      <th class=\"col_heading level0 col4\" >p_value</th>\n",
              "    </tr>\n",
              "  </thead>\n",
              "  <tbody>\n",
              "    <tr>\n",
              "      <th id=\"T_9f5d7_level0_row0\" class=\"row_heading level0 row0\" >32</th>\n",
              "      <td id=\"T_9f5d7_row0_col0\" class=\"data row0 col0\" >0.005380</td>\n",
              "      <td id=\"T_9f5d7_row0_col1\" class=\"data row0 col1\" >0.003420</td>\n",
              "      <td id=\"T_9f5d7_row0_col2\" class=\"data row0 col2\" >0.016650</td>\n",
              "      <td id=\"T_9f5d7_row0_col3\" class=\"data row0 col3\" >0.005490</td>\n",
              "      <td id=\"T_9f5d7_row0_col4\" class=\"data row0 col4\" >0.360197</td>\n",
              "    </tr>\n",
              "    <tr>\n",
              "      <th id=\"T_9f5d7_level0_row1\" class=\"row_heading level0 row1\" >64</th>\n",
              "      <td id=\"T_9f5d7_row1_col0\" class=\"data row1 col0\" >0.002810</td>\n",
              "      <td id=\"T_9f5d7_row1_col1\" class=\"data row1 col1\" >0.001670</td>\n",
              "      <td id=\"T_9f5d7_row1_col2\" class=\"data row1 col2\" >0.015290</td>\n",
              "      <td id=\"T_9f5d7_row1_col3\" class=\"data row1 col3\" >0.005710</td>\n",
              "      <td id=\"T_9f5d7_row1_col4\" class=\"data row1 col4\" >0.228965</td>\n",
              "    </tr>\n",
              "    <tr>\n",
              "      <th id=\"T_9f5d7_level0_row2\" class=\"row_heading level0 row2\" >128</th>\n",
              "      <td id=\"T_9f5d7_row2_col0\" class=\"data row2 col0\" >0.005240</td>\n",
              "      <td id=\"T_9f5d7_row2_col1\" class=\"data row2 col1\" >0.002910</td>\n",
              "      <td id=\"T_9f5d7_row2_col2\" class=\"data row2 col2\" >0.012650</td>\n",
              "      <td id=\"T_9f5d7_row2_col3\" class=\"data row2 col3\" >0.001930</td>\n",
              "      <td id=\"T_9f5d7_row2_col4\" class=\"data row2 col4\" >0.617126</td>\n",
              "    </tr>\n",
              "    <tr>\n",
              "      <th id=\"T_9f5d7_level0_row3\" class=\"row_heading level0 row3\" >256</th>\n",
              "      <td id=\"T_9f5d7_row3_col0\" class=\"data row3 col0\" >0.005300</td>\n",
              "      <td id=\"T_9f5d7_row3_col1\" class=\"data row3 col1\" >0.002320</td>\n",
              "      <td id=\"T_9f5d7_row3_col2\" class=\"data row3 col2\" >0.014340</td>\n",
              "      <td id=\"T_9f5d7_row3_col3\" class=\"data row3 col3\" >0.002660</td>\n",
              "      <td id=\"T_9f5d7_row3_col4\" class=\"data row3 col4\" >0.517921</td>\n",
              "    </tr>\n",
              "    <tr>\n",
              "      <th id=\"T_9f5d7_level0_row4\" class=\"row_heading level0 row4\" >512</th>\n",
              "      <td id=\"T_9f5d7_row4_col0\" class=\"data row4 col0\" >0.003970</td>\n",
              "      <td id=\"T_9f5d7_row4_col1\" class=\"data row4 col1\" >0.002920</td>\n",
              "      <td id=\"T_9f5d7_row4_col2\" class=\"data row4 col2\" >0.015720</td>\n",
              "      <td id=\"T_9f5d7_row4_col3\" class=\"data row4 col3\" >0.004870</td>\n",
              "      <td id=\"T_9f5d7_row4_col4\" class=\"data row4 col4\" >0.335718</td>\n",
              "    </tr>\n",
              "    <tr>\n",
              "      <th id=\"T_9f5d7_level0_row5\" class=\"row_heading level0 row5\" >1024</th>\n",
              "      <td id=\"T_9f5d7_row5_col0\" class=\"data row5 col0\" >0.004540</td>\n",
              "      <td id=\"T_9f5d7_row5_col1\" class=\"data row5 col1\" >0.002300</td>\n",
              "      <td id=\"T_9f5d7_row5_col2\" class=\"data row5 col2\" >0.017090</td>\n",
              "      <td id=\"T_9f5d7_row5_col3\" class=\"data row5 col3\" >0.004790</td>\n",
              "      <td id=\"T_9f5d7_row5_col4\" class=\"data row5 col4\" >0.352071</td>\n",
              "    </tr>\n",
              "  </tbody>\n",
              "</table>\n"
            ],
            "text/plain": [
              "<pandas.io.formats.style.Styler at 0x7f19bdff3f50>"
            ]
          },
          "metadata": {},
          "output_type": "display_data"
        },
        {
          "data": {
            "image/png": "[encoded data removed]",
            "text/plain": [
              "<Figure size 432x288 with 1 Axes>"
            ]
          },
          "metadata": {
            "needs_background": "light"
          },
          "output_type": "display_data"
        }
      ],
      "source": [
        "#Zakharov - 2\n",
        "tabulate_plot(\"Zakharov\",'2')"
      ]
    },
    {
      "cell_type": "code",
      "execution_count": 112,
      "metadata": {
        "colab": {
          "base_uri": "https://localhost:8080/",
          "height": 516
        },
        "id": "YLR28dCgBilh",
        "outputId": "125069c1-51f9-464f-95ae-a88794f0c552"
      },
      "outputs": [
        {
          "data": {
            "text/html": [
              "<style type=\"text/css\">\n",
              "#T_a34bf_row0_col0, #T_a34bf_row0_col1, #T_a34bf_row1_col0, #T_a34bf_row1_col1, #T_a34bf_row2_col0, #T_a34bf_row2_col1, #T_a34bf_row3_col0, #T_a34bf_row3_col1, #T_a34bf_row4_col0, #T_a34bf_row4_col1, #T_a34bf_row5_col0, #T_a34bf_row5_col1 {\n",
              "  font-weight: bold;\n",
              "}\n",
              "</style>\n",
              "<table id=\"T_a34bf_\" class=\"dataframe\">\n",
              "  <thead>\n",
              "    <tr>\n",
              "      <th class=\"index_name level0\" >pop size</th>\n",
              "      <th class=\"col_heading level0 col0\" >DE_mean</th>\n",
              "      <th class=\"col_heading level0 col1\" >DE_std</th>\n",
              "      <th class=\"col_heading level0 col2\" >CEM_mean</th>\n",
              "      <th class=\"col_heading level0 col3\" >CEM_std</th>\n",
              "      <th class=\"col_heading level0 col4\" >p_value</th>\n",
              "    </tr>\n",
              "  </thead>\n",
              "  <tbody>\n",
              "    <tr>\n",
              "      <th id=\"T_a34bf_level0_row0\" class=\"row_heading level0 row0\" >32</th>\n",
              "      <td id=\"T_a34bf_row0_col0\" class=\"data row0 col0\" >0.007700</td>\n",
              "      <td id=\"T_a34bf_row0_col1\" class=\"data row0 col1\" >0.000950</td>\n",
              "      <td id=\"T_a34bf_row0_col2\" class=\"data row0 col2\" >6164.778760</td>\n",
              "      <td id=\"T_a34bf_row0_col3\" class=\"data row0 col3\" >7750.630170</td>\n",
              "      <td id=\"T_a34bf_row0_col4\" class=\"data row0 col4\" >0.012740</td>\n",
              "    </tr>\n",
              "    <tr>\n",
              "      <th id=\"T_a34bf_level0_row1\" class=\"row_heading level0 row1\" >64</th>\n",
              "      <td id=\"T_a34bf_row1_col0\" class=\"data row1 col0\" >0.009080</td>\n",
              "      <td id=\"T_a34bf_row1_col1\" class=\"data row1 col1\" >0.000530</td>\n",
              "      <td id=\"T_a34bf_row1_col2\" class=\"data row1 col2\" >1402.774860</td>\n",
              "      <td id=\"T_a34bf_row1_col3\" class=\"data row1 col3\" >935.998810</td>\n",
              "      <td id=\"T_a34bf_row1_col4\" class=\"data row1 col4\" >0.037601</td>\n",
              "    </tr>\n",
              "    <tr>\n",
              "      <th id=\"T_a34bf_level0_row2\" class=\"row_heading level0 row2\" >128</th>\n",
              "      <td id=\"T_a34bf_row2_col0\" class=\"data row2 col0\" >0.008670</td>\n",
              "      <td id=\"T_a34bf_row2_col1\" class=\"data row2 col1\" >0.001380</td>\n",
              "      <td id=\"T_a34bf_row2_col2\" class=\"data row2 col2\" >1748.377080</td>\n",
              "      <td id=\"T_a34bf_row2_col3\" class=\"data row2 col3\" >926.896910</td>\n",
              "      <td id=\"T_a34bf_row2_col4\" class=\"data row2 col4\" >0.082753</td>\n",
              "    </tr>\n",
              "    <tr>\n",
              "      <th id=\"T_a34bf_level0_row3\" class=\"row_heading level0 row3\" >256</th>\n",
              "      <td id=\"T_a34bf_row3_col0\" class=\"data row3 col0\" >0.007850</td>\n",
              "      <td id=\"T_a34bf_row3_col1\" class=\"data row3 col1\" >0.002040</td>\n",
              "      <td id=\"T_a34bf_row3_col2\" class=\"data row3 col2\" >1562.594090</td>\n",
              "      <td id=\"T_a34bf_row3_col3\" class=\"data row3 col3\" >510.366540</td>\n",
              "      <td id=\"T_a34bf_row3_col4\" class=\"data row3 col4\" >0.187640</td>\n",
              "    </tr>\n",
              "    <tr>\n",
              "      <th id=\"T_a34bf_level0_row4\" class=\"row_heading level0 row4\" >512</th>\n",
              "      <td id=\"T_a34bf_row4_col0\" class=\"data row4 col0\" >0.008500</td>\n",
              "      <td id=\"T_a34bf_row4_col1\" class=\"data row4 col1\" >0.001450</td>\n",
              "      <td id=\"T_a34bf_row4_col2\" class=\"data row4 col2\" >1137.255490</td>\n",
              "      <td id=\"T_a34bf_row4_col3\" class=\"data row4 col3\" >424.551700</td>\n",
              "      <td id=\"T_a34bf_row4_col4\" class=\"data row4 col4\" >0.159778</td>\n",
              "    </tr>\n",
              "    <tr>\n",
              "      <th id=\"T_a34bf_level0_row5\" class=\"row_heading level0 row5\" >1024</th>\n",
              "      <td id=\"T_a34bf_row5_col0\" class=\"data row5 col0\" >0.008950</td>\n",
              "      <td id=\"T_a34bf_row5_col1\" class=\"data row5 col1\" >0.000640</td>\n",
              "      <td id=\"T_a34bf_row5_col2\" class=\"data row5 col2\" >939.601470</td>\n",
              "      <td id=\"T_a34bf_row5_col3\" class=\"data row5 col3\" >292.295960</td>\n",
              "      <td id=\"T_a34bf_row5_col4\" class=\"data row5 col4\" >0.197353</td>\n",
              "    </tr>\n",
              "  </tbody>\n",
              "</table>\n"
            ],
            "text/plain": [
              "<pandas.io.formats.style.Styler at 0x7f19be388710>"
            ]
          },
          "metadata": {},
          "output_type": "display_data"
        },
        {
          "data": {
            "image/png": "[encoded data removed]",
            "text/plain": [
              "<Figure size 432x288 with 1 Axes>"
            ]
          },
          "metadata": {
            "needs_background": "light"
          },
          "output_type": "display_data"
        }
      ],
      "source": [
        "#Zakharov - 10\n",
        "tabulate_plot(\"Zakharov\",'10')"
      ]
    },
    {
      "cell_type": "code",
      "execution_count": 113,
      "metadata": {
        "colab": {
          "base_uri": "https://localhost:8080/",
          "height": 516
        },
        "id": "w7Eyfs4QBkis",
        "outputId": "ea52e4da-aa47-4e7f-cb70-70bcb307b997"
      },
      "outputs": [
        {
          "data": {
            "text/html": [
              "<style type=\"text/css\">\n",
              "#T_61d01_row0_col0, #T_61d01_row0_col1, #T_61d01_row1_col0, #T_61d01_row1_col1, #T_61d01_row2_col0, #T_61d01_row2_col1, #T_61d01_row3_col0, #T_61d01_row3_col1, #T_61d01_row4_col0, #T_61d01_row4_col1, #T_61d01_row5_col0, #T_61d01_row5_col1 {\n",
              "  font-weight: bold;\n",
              "}\n",
              "</style>\n",
              "<table id=\"T_61d01_\" class=\"dataframe\">\n",
              "  <thead>\n",
              "    <tr>\n",
              "      <th class=\"index_name level0\" >pop size</th>\n",
              "      <th class=\"col_heading level0 col0\" >DE_mean</th>\n",
              "      <th class=\"col_heading level0 col1\" >DE_std</th>\n",
              "      <th class=\"col_heading level0 col2\" >CEM_mean</th>\n",
              "      <th class=\"col_heading level0 col3\" >CEM_std</th>\n",
              "      <th class=\"col_heading level0 col4\" >p_value</th>\n",
              "    </tr>\n",
              "  </thead>\n",
              "  <tbody>\n",
              "    <tr>\n",
              "      <th id=\"T_61d01_level0_row0\" class=\"row_heading level0 row0\" >32</th>\n",
              "      <td id=\"T_61d01_row0_col0\" class=\"data row0 col0\" >-0.976390</td>\n",
              "      <td id=\"T_61d01_row0_col1\" class=\"data row0 col1\" >0.017310</td>\n",
              "      <td id=\"T_61d01_row0_col2\" class=\"data row0 col2\" >0.558630</td>\n",
              "      <td id=\"T_61d01_row0_col3\" class=\"data row0 col3\" >0.278160</td>\n",
              "      <td id=\"T_61d01_row0_col4\" class=\"data row0 col4\" >0.224111</td>\n",
              "    </tr>\n",
              "    <tr>\n",
              "      <th id=\"T_61d01_level0_row1\" class=\"row_heading level0 row1\" >64</th>\n",
              "      <td id=\"T_61d01_row1_col0\" class=\"data row1 col0\" >-0.988260</td>\n",
              "      <td id=\"T_61d01_row1_col1\" class=\"data row1 col1\" >0.003450</td>\n",
              "      <td id=\"T_61d01_row1_col2\" class=\"data row1 col2\" >0.484680</td>\n",
              "      <td id=\"T_61d01_row1_col3\" class=\"data row1 col3\" >0.419610</td>\n",
              "      <td id=\"T_61d01_row1_col4\" class=\"data row1 col4\" >0.197698</td>\n",
              "    </tr>\n",
              "    <tr>\n",
              "      <th id=\"T_61d01_level0_row2\" class=\"row_heading level0 row2\" >128</th>\n",
              "      <td id=\"T_61d01_row2_col0\" class=\"data row2 col0\" >-0.989990</td>\n",
              "      <td id=\"T_61d01_row2_col1\" class=\"data row2 col1\" >0.000000</td>\n",
              "      <td id=\"T_61d01_row2_col2\" class=\"data row2 col2\" >0.373390</td>\n",
              "      <td id=\"T_61d01_row2_col3\" class=\"data row2 col3\" >0.459110</td>\n",
              "      <td id=\"T_61d01_row2_col4\" class=\"data row2 col4\" >0.208086</td>\n",
              "    </tr>\n",
              "    <tr>\n",
              "      <th id=\"T_61d01_level0_row3\" class=\"row_heading level0 row3\" >256</th>\n",
              "      <td id=\"T_61d01_row3_col0\" class=\"data row3 col0\" >-0.989990</td>\n",
              "      <td id=\"T_61d01_row3_col1\" class=\"data row3 col1\" >0.000000</td>\n",
              "      <td id=\"T_61d01_row3_col2\" class=\"data row3 col2\" >0.392620</td>\n",
              "      <td id=\"T_61d01_row3_col3\" class=\"data row3 col3\" >0.480900</td>\n",
              "      <td id=\"T_61d01_row3_col4\" class=\"data row3 col4\" >0.201644</td>\n",
              "    </tr>\n",
              "    <tr>\n",
              "      <th id=\"T_61d01_level0_row4\" class=\"row_heading level0 row4\" >512</th>\n",
              "      <td id=\"T_61d01_row4_col0\" class=\"data row4 col0\" >-0.989990</td>\n",
              "      <td id=\"T_61d01_row4_col1\" class=\"data row4 col1\" >0.000000</td>\n",
              "      <td id=\"T_61d01_row4_col2\" class=\"data row4 col2\" >0.282090</td>\n",
              "      <td id=\"T_61d01_row4_col3\" class=\"data row4 col3\" >0.430980</td>\n",
              "      <td id=\"T_61d01_row4_col4\" class=\"data row4 col4\" >0.231021</td>\n",
              "    </tr>\n",
              "    <tr>\n",
              "      <th id=\"T_61d01_level0_row5\" class=\"row_heading level0 row5\" >1024</th>\n",
              "      <td id=\"T_61d01_row5_col0\" class=\"data row5 col0\" >-0.989990</td>\n",
              "      <td id=\"T_61d01_row5_col1\" class=\"data row5 col1\" >0.000000</td>\n",
              "      <td id=\"T_61d01_row5_col2\" class=\"data row5 col2\" >0.692160</td>\n",
              "      <td id=\"T_61d01_row5_col3\" class=\"data row5 col3\" >0.453250</td>\n",
              "      <td id=\"T_61d01_row5_col4\" class=\"data row5 col4\" >0.170945</td>\n",
              "    </tr>\n",
              "  </tbody>\n",
              "</table>\n"
            ],
            "text/plain": [
              "<pandas.io.formats.style.Styler at 0x7f19b941c8d0>"
            ]
          },
          "metadata": {},
          "output_type": "display_data"
        },
        {
          "data": {
            "image/png": "[encoded data removed]",
            "text/plain": [
              "<Figure size 432x288 with 1 Axes>"
            ]
          },
          "metadata": {
            "needs_background": "light"
          },
          "output_type": "display_data"
        }
      ],
      "source": [
        "#Michalewicz - 2\n",
        "tabulate_plot(\"Michalewicz\",'2')"
      ]
    },
    {
      "cell_type": "code",
      "execution_count": 114,
      "metadata": {
        "colab": {
          "base_uri": "https://localhost:8080/",
          "height": 516
        },
        "id": "4KaOxMgxBl4B",
        "outputId": "14a39d9f-3791-4052-c6b4-ab4d00466252"
      },
      "outputs": [
        {
          "data": {
            "text/html": [
              "<style type=\"text/css\">\n",
              "#T_2d473_row0_col0, #T_2d473_row0_col1, #T_2d473_row1_col0, #T_2d473_row1_col1, #T_2d473_row2_col0, #T_2d473_row2_col1, #T_2d473_row3_col0, #T_2d473_row3_col1, #T_2d473_row4_col0, #T_2d473_row4_col1, #T_2d473_row5_col0, #T_2d473_row5_col1 {\n",
              "  font-weight: bold;\n",
              "}\n",
              "</style>\n",
              "<table id=\"T_2d473_\" class=\"dataframe\">\n",
              "  <thead>\n",
              "    <tr>\n",
              "      <th class=\"index_name level0\" >pop size</th>\n",
              "      <th class=\"col_heading level0 col0\" >DE_mean</th>\n",
              "      <th class=\"col_heading level0 col1\" >DE_std</th>\n",
              "      <th class=\"col_heading level0 col2\" >CEM_mean</th>\n",
              "      <th class=\"col_heading level0 col3\" >CEM_std</th>\n",
              "      <th class=\"col_heading level0 col4\" >p_value</th>\n",
              "    </tr>\n",
              "  </thead>\n",
              "  <tbody>\n",
              "    <tr>\n",
              "      <th id=\"T_2d473_level0_row0\" class=\"row_heading level0 row0\" >32</th>\n",
              "      <td id=\"T_2d473_row0_col0\" class=\"data row0 col0\" >-8.926810</td>\n",
              "      <td id=\"T_2d473_row0_col1\" class=\"data row0 col1\" >0.020130</td>\n",
              "      <td id=\"T_2d473_row0_col2\" class=\"data row0 col2\" >2.320310</td>\n",
              "      <td id=\"T_2d473_row0_col3\" class=\"data row0 col3\" >0.526720</td>\n",
              "      <td id=\"T_2d473_row0_col4\" class=\"data row0 col4\" >0.326630</td>\n",
              "    </tr>\n",
              "    <tr>\n",
              "      <th id=\"T_2d473_level0_row1\" class=\"row_heading level0 row1\" >64</th>\n",
              "      <td id=\"T_2d473_row1_col0\" class=\"data row1 col0\" >-8.731120</td>\n",
              "      <td id=\"T_2d473_row1_col1\" class=\"data row1 col1\" >0.175450</td>\n",
              "      <td id=\"T_2d473_row1_col2\" class=\"data row1 col2\" >2.748260</td>\n",
              "      <td id=\"T_2d473_row1_col3\" class=\"data row1 col3\" >0.531200</td>\n",
              "      <td id=\"T_2d473_row1_col4\" class=\"data row1 col4\" >0.326238</td>\n",
              "    </tr>\n",
              "    <tr>\n",
              "      <th id=\"T_2d473_level0_row2\" class=\"row_heading level0 row2\" >128</th>\n",
              "      <td id=\"T_2d473_row2_col0\" class=\"data row2 col0\" >-8.258430</td>\n",
              "      <td id=\"T_2d473_row2_col1\" class=\"data row2 col1\" >0.139140</td>\n",
              "      <td id=\"T_2d473_row2_col2\" class=\"data row2 col2\" >2.963590</td>\n",
              "      <td id=\"T_2d473_row2_col3\" class=\"data row2 col3\" >0.623370</td>\n",
              "      <td id=\"T_2d473_row2_col4\" class=\"data row2 col4\" >0.311430</td>\n",
              "    </tr>\n",
              "    <tr>\n",
              "      <th id=\"T_2d473_level0_row3\" class=\"row_heading level0 row3\" >256</th>\n",
              "      <td id=\"T_2d473_row3_col0\" class=\"data row3 col0\" >-7.967940</td>\n",
              "      <td id=\"T_2d473_row3_col1\" class=\"data row3 col1\" >0.205060</td>\n",
              "      <td id=\"T_2d473_row3_col2\" class=\"data row3 col2\" >3.247740</td>\n",
              "      <td id=\"T_2d473_row3_col3\" class=\"data row3 col3\" >0.365090</td>\n",
              "      <td id=\"T_2d473_row3_col4\" class=\"data row3 col4\" >0.319712</td>\n",
              "    </tr>\n",
              "    <tr>\n",
              "      <th id=\"T_2d473_level0_row4\" class=\"row_heading level0 row4\" >512</th>\n",
              "      <td id=\"T_2d473_row4_col0\" class=\"data row4 col0\" >-7.428670</td>\n",
              "      <td id=\"T_2d473_row4_col1\" class=\"data row4 col1\" >0.300920</td>\n",
              "      <td id=\"T_2d473_row4_col2\" class=\"data row4 col2\" >3.632540</td>\n",
              "      <td id=\"T_2d473_row4_col3\" class=\"data row4 col3\" >0.272930</td>\n",
              "      <td id=\"T_2d473_row4_col4\" class=\"data row4 col4\" >0.320694</td>\n",
              "    </tr>\n",
              "    <tr>\n",
              "      <th id=\"T_2d473_level0_row5\" class=\"row_heading level0 row5\" >1024</th>\n",
              "      <td id=\"T_2d473_row5_col0\" class=\"data row5 col0\" >-7.199330</td>\n",
              "      <td id=\"T_2d473_row5_col1\" class=\"data row5 col1\" >0.398760</td>\n",
              "      <td id=\"T_2d473_row5_col2\" class=\"data row5 col2\" >3.815990</td>\n",
              "      <td id=\"T_2d473_row5_col3\" class=\"data row5 col3\" >0.390190</td>\n",
              "      <td id=\"T_2d473_row5_col4\" class=\"data row5 col4\" >0.317499</td>\n",
              "    </tr>\n",
              "  </tbody>\n",
              "</table>\n"
            ],
            "text/plain": [
              "<pandas.io.formats.style.Styler at 0x7f19bcaf1810>"
            ]
          },
          "metadata": {},
          "output_type": "display_data"
        },
        {
          "data": {
            "image/png": "[encoded data removed]",
            "text/plain": [
              "<Figure size 432x288 with 1 Axes>"
            ]
          },
          "metadata": {
            "needs_background": "light"
          },
          "output_type": "display_data"
        }
      ],
      "source": [
        "#Michalewicz - 10\n",
        "tabulate_plot(\"Michalewicz\",'10')"
      ]
    },
    {
      "cell_type": "markdown",
      "metadata": {
        "id": "1FRa2tF_IK78"
      },
      "source": [
        "# Animation"
      ]
    },
    {
      "cell_type": "code",
      "execution_count": 196,
      "metadata": {
        "colab": {
          "base_uri": "https://localhost:8080/"
        },
        "id": "VHFFbCJ4_rBu",
        "outputId": "1ae3454c-113b-4799-8cff-4302f5aa87ee"
      },
      "outputs": [
        {
          "name": "stdout",
          "output_type": "stream",
          "text": [
            "Reading package lists... Done\n",
            "Building dependency tree       \n",
            "Reading state information... Done\n",
            "The following package was automatically installed and is no longer required:\n",
            "  libnvidia-common-460\n",
            "Use 'apt autoremove' to remove it.\n",
            "The following additional packages will be installed:\n",
            "  fonts-droid-fallback fonts-noto-mono ghostscript gsfonts\n",
            "  imagemagick-6-common imagemagick-6.q16 libcupsfilters1 libcupsimage2\n",
            "  libdjvulibre-text libdjvulibre21 libgs9 libgs9-common libijs-0.35\n",
            "  libjbig2dec0 liblqr-1-0 libmagickcore-6.q16-3 libmagickcore-6.q16-3-extra\n",
            "  libmagickwand-6.q16-3 libnetpbm10 libwmf0.2-7 netpbm poppler-data\n",
            "Suggested packages:\n",
            "  fonts-noto ghostscript-x imagemagick-doc autotrace cups-bsd | lpr | lprng\n",
            "  enscript gimp gnuplot grads hp2xx html2ps libwmf-bin mplayer povray radiance\n",
            "  sane-utils texlive-base-bin transfig ufraw-batch inkscape libjxr-tools\n",
            "  libwmf0.2-7-gtk poppler-utils fonts-japanese-mincho | fonts-ipafont-mincho\n",
            "  fonts-japanese-gothic | fonts-ipafont-gothic fonts-arphic-ukai\n",
            "  fonts-arphic-uming fonts-nanum\n",
            "The following NEW packages will be installed:\n",
            "  fonts-droid-fallback fonts-noto-mono ghostscript gsfonts imagemagick\n",
            "  imagemagick-6-common imagemagick-6.q16 libcupsfilters1 libcupsimage2\n",
            "  libdjvulibre-text libdjvulibre21 libgs9 libgs9-common libijs-0.35\n",
            "  libjbig2dec0 liblqr-1-0 libmagickcore-6.q16-3 libmagickcore-6.q16-3-extra\n",
            "  libmagickwand-6.q16-3 libnetpbm10 libwmf0.2-7 netpbm poppler-data\n",
            "0 upgraded, 23 newly installed, 0 to remove and 29 not upgraded.\n",
            "Need to get 18.4 MB of archives.\n",
            "After this operation, 66.3 MB of additional disk space will be used.\n",
            "Get:1 http://archive.ubuntu.com/ubuntu bionic/main amd64 fonts-droid-fallback all 1:6.0.1r16-1.1 [1,805 kB]\n",
            "Get:2 http://archive.ubuntu.com/ubuntu bionic/main amd64 liblqr-1-0 amd64 0.4.2-2.1 [27.7 kB]\n",
            "Get:3 http://archive.ubuntu.com/ubuntu bionic-updates/main amd64 imagemagick-6-common all 8:6.9.7.4+dfsg-16ubuntu6.13 [60.3 kB]\n",
            "Get:4 http://archive.ubuntu.com/ubuntu bionic-updates/main amd64 libmagickcore-6.q16-3 amd64 8:6.9.7.4+dfsg-16ubuntu6.13 [1,620 kB]\n",
            "Get:5 http://archive.ubuntu.com/ubuntu bionic-updates/main amd64 libmagickwand-6.q16-3 amd64 8:6.9.7.4+dfsg-16ubuntu6.13 [292 kB]\n",
            "Get:6 http://archive.ubuntu.com/ubuntu bionic/main amd64 poppler-data all 0.4.8-2 [1,479 kB]\n",
            "Get:7 http://archive.ubuntu.com/ubuntu bionic/main amd64 fonts-noto-mono all 20171026-2 [75.5 kB]\n",
            "Get:8 http://archive.ubuntu.com/ubuntu bionic-updates/main amd64 libcupsimage2 amd64 2.2.7-1ubuntu2.9 [18.6 kB]\n",
            "Get:9 http://archive.ubuntu.com/ubuntu bionic/main amd64 libijs-0.35 amd64 0.35-13 [15.5 kB]\n",
            "Get:10 http://archive.ubuntu.com/ubuntu bionic/main amd64 libjbig2dec0 amd64 0.13-6 [55.9 kB]\n",
            "Get:11 http://archive.ubuntu.com/ubuntu bionic-updates/main amd64 libgs9-common all 9.26~dfsg+0-0ubuntu0.18.04.17 [5,092 kB]\n",
            "Get:12 http://archive.ubuntu.com/ubuntu bionic-updates/main amd64 libgs9 amd64 9.26~dfsg+0-0ubuntu0.18.04.17 [2,267 kB]\n",
            "Get:13 http://archive.ubuntu.com/ubuntu bionic-updates/main amd64 ghostscript amd64 9.26~dfsg+0-0ubuntu0.18.04.17 [51.3 kB]\n",
            "Get:14 http://archive.ubuntu.com/ubuntu bionic/main amd64 gsfonts all 1:8.11+urwcyr1.0.7~pre44-4.4 [3,120 kB]\n",
            "Get:15 http://archive.ubuntu.com/ubuntu bionic-updates/main amd64 imagemagick-6.q16 amd64 8:6.9.7.4+dfsg-16ubuntu6.13 [423 kB]\n",
            "Get:16 http://archive.ubuntu.com/ubuntu bionic-updates/main amd64 imagemagick amd64 8:6.9.7.4+dfsg-16ubuntu6.13 [14.2 kB]\n",
            "Get:17 http://archive.ubuntu.com/ubuntu bionic-updates/main amd64 libcupsfilters1 amd64 1.20.2-0ubuntu3.1 [108 kB]\n",
            "Get:18 http://archive.ubuntu.com/ubuntu bionic-updates/main amd64 libdjvulibre-text all 3.5.27.1-8ubuntu0.4 [49.4 kB]\n",
            "Get:19 http://archive.ubuntu.com/ubuntu bionic-updates/main amd64 libdjvulibre21 amd64 3.5.27.1-8ubuntu0.4 [561 kB]\n",
            "Get:20 http://archive.ubuntu.com/ubuntu bionic/main amd64 libwmf0.2-7 amd64 0.2.8.4-12 [150 kB]\n",
            "Get:21 http://archive.ubuntu.com/ubuntu bionic-updates/main amd64 libmagickcore-6.q16-3-extra amd64 8:6.9.7.4+dfsg-16ubuntu6.13 [62.3 kB]\n",
            "Get:22 http://archive.ubuntu.com/ubuntu bionic/main amd64 libnetpbm10 amd64 2:10.0-15.3build1 [58.0 kB]\n",
            "Get:23 http://archive.ubuntu.com/ubuntu bionic/main amd64 netpbm amd64 2:10.0-15.3build1 [1,017 kB]\n",
            "Fetched 18.4 MB in 2s (8,220 kB/s)\n",
            "Selecting previously unselected package fonts-droid-fallback.\n",
            "(Reading database ... 123942 files and directories currently installed.)\n",
            "Preparing to unpack .../00-fonts-droid-fallback_1%3a6.0.1r16-1.1_all.deb ...\n",
            "Unpacking fonts-droid-fallback (1:6.0.1r16-1.1) ...\n",
            "Selecting previously unselected package liblqr-1-0:amd64.\n",
            "Preparing to unpack .../01-liblqr-1-0_0.4.2-2.1_amd64.deb ...\n",
            "Unpacking liblqr-1-0:amd64 (0.4.2-2.1) ...\n",
            "Selecting previously unselected package imagemagick-6-common.\n",
            "Preparing to unpack .../02-imagemagick-6-common_8%3a6.9.7.4+dfsg-16ubuntu6.13_all.deb ...\n",
            "Unpacking imagemagick-6-common (8:6.9.7.4+dfsg-16ubuntu6.13) ...\n",
            "Selecting previously unselected package libmagickcore-6.q16-3:amd64.\n",
            "Preparing to unpack .../03-libmagickcore-6.q16-3_8%3a6.9.7.4+dfsg-16ubuntu6.13_amd64.deb ...\n",
            "Unpacking libmagickcore-6.q16-3:amd64 (8:6.9.7.4+dfsg-16ubuntu6.13) ...\n",
            "Selecting previously unselected package libmagickwand-6.q16-3:amd64.\n",
            "Preparing to unpack .../04-libmagickwand-6.q16-3_8%3a6.9.7.4+dfsg-16ubuntu6.13_amd64.deb ...\n",
            "Unpacking libmagickwand-6.q16-3:amd64 (8:6.9.7.4+dfsg-16ubuntu6.13) ...\n",
            "Selecting previously unselected package poppler-data.\n",
            "Preparing to unpack .../05-poppler-data_0.4.8-2_all.deb ...\n",
            "Unpacking poppler-data (0.4.8-2) ...\n",
            "Selecting previously unselected package fonts-noto-mono.\n",
            "Preparing to unpack .../06-fonts-noto-mono_20171026-2_all.deb ...\n",
            "Unpacking fonts-noto-mono (20171026-2) ...\n",
            "Selecting previously unselected package libcupsimage2:amd64.\n",
            "Preparing to unpack .../07-libcupsimage2_2.2.7-1ubuntu2.9_amd64.deb ...\n",
            "Unpacking libcupsimage2:amd64 (2.2.7-1ubuntu2.9) ...\n",
            "Selecting previously unselected package libijs-0.35:amd64.\n",
            "Preparing to unpack .../08-libijs-0.35_0.35-13_amd64.deb ...\n",
            "Unpacking libijs-0.35:amd64 (0.35-13) ...\n",
            "Selecting previously unselected package libjbig2dec0:amd64.\n",
            "Preparing to unpack .../09-libjbig2dec0_0.13-6_amd64.deb ...\n",
            "Unpacking libjbig2dec0:amd64 (0.13-6) ...\n",
            "Selecting previously unselected package libgs9-common.\n",
            "Preparing to unpack .../10-libgs9-common_9.26~dfsg+0-0ubuntu0.18.04.17_all.deb ...\n",
            "Unpacking libgs9-common (9.26~dfsg+0-0ubuntu0.18.04.17) ...\n",
            "Selecting previously unselected package libgs9:amd64.\n",
            "Preparing to unpack .../11-libgs9_9.26~dfsg+0-0ubuntu0.18.04.17_amd64.deb ...\n",
            "Unpacking libgs9:amd64 (9.26~dfsg+0-0ubuntu0.18.04.17) ...\n",
            "Selecting previously unselected package ghostscript.\n",
            "Preparing to unpack .../12-ghostscript_9.26~dfsg+0-0ubuntu0.18.04.17_amd64.deb ...\n",
            "Unpacking ghostscript (9.26~dfsg+0-0ubuntu0.18.04.17) ...\n",
            "Selecting previously unselected package gsfonts.\n",
            "Preparing to unpack .../13-gsfonts_1%3a8.11+urwcyr1.0.7~pre44-4.4_all.deb ...\n",
            "Unpacking gsfonts (1:8.11+urwcyr1.0.7~pre44-4.4) ...\n",
            "Selecting previously unselected package imagemagick-6.q16.\n",
            "Preparing to unpack .../14-imagemagick-6.q16_8%3a6.9.7.4+dfsg-16ubuntu6.13_amd64.deb ...\n",
            "Unpacking imagemagick-6.q16 (8:6.9.7.4+dfsg-16ubuntu6.13) ...\n",
            "Selecting previously unselected package imagemagick.\n",
            "Preparing to unpack .../15-imagemagick_8%3a6.9.7.4+dfsg-16ubuntu6.13_amd64.deb ...\n",
            "Unpacking imagemagick (8:6.9.7.4+dfsg-16ubuntu6.13) ...\n",
            "Selecting previously unselected package libcupsfilters1:amd64.\n",
            "Preparing to unpack .../16-libcupsfilters1_1.20.2-0ubuntu3.1_amd64.deb ...\n",
            "Unpacking libcupsfilters1:amd64 (1.20.2-0ubuntu3.1) ...\n",
            "Selecting previously unselected package libdjvulibre-text.\n",
            "Preparing to unpack .../17-libdjvulibre-text_3.5.27.1-8ubuntu0.4_all.deb ...\n",
            "Unpacking libdjvulibre-text (3.5.27.1-8ubuntu0.4) ...\n",
            "Selecting previously unselected package libdjvulibre21:amd64.\n",
            "Preparing to unpack .../18-libdjvulibre21_3.5.27.1-8ubuntu0.4_amd64.deb ...\n",
            "Unpacking libdjvulibre21:amd64 (3.5.27.1-8ubuntu0.4) ...\n",
            "Selecting previously unselected package libwmf0.2-7:amd64.\n",
            "Preparing to unpack .../19-libwmf0.2-7_0.2.8.4-12_amd64.deb ...\n",
            "Unpacking libwmf0.2-7:amd64 (0.2.8.4-12) ...\n",
            "Selecting previously unselected package libmagickcore-6.q16-3-extra:amd64.\n",
            "Preparing to unpack .../20-libmagickcore-6.q16-3-extra_8%3a6.9.7.4+dfsg-16ubuntu6.13_amd64.deb ...\n",
            "Unpacking libmagickcore-6.q16-3-extra:amd64 (8:6.9.7.4+dfsg-16ubuntu6.13) ...\n",
            "Selecting previously unselected package libnetpbm10.\n",
            "Preparing to unpack .../21-libnetpbm10_2%3a10.0-15.3build1_amd64.deb ...\n",
            "Unpacking libnetpbm10 (2:10.0-15.3build1) ...\n",
            "Selecting previously unselected package netpbm.\n",
            "Preparing to unpack .../22-netpbm_2%3a10.0-15.3build1_amd64.deb ...\n",
            "Unpacking netpbm (2:10.0-15.3build1) ...\n",
            "Setting up libgs9-common (9.26~dfsg+0-0ubuntu0.18.04.17) ...\n",
            "Setting up imagemagick-6-common (8:6.9.7.4+dfsg-16ubuntu6.13) ...\n",
            "Setting up fonts-droid-fallback (1:6.0.1r16-1.1) ...\n",
            "Setting up gsfonts (1:8.11+urwcyr1.0.7~pre44-4.4) ...\n",
            "Setting up poppler-data (0.4.8-2) ...\n",
            "Setting up libdjvulibre-text (3.5.27.1-8ubuntu0.4) ...\n",
            "Setting up libnetpbm10 (2:10.0-15.3build1) ...\n",
            "Setting up fonts-noto-mono (20171026-2) ...\n",
            "Setting up libcupsfilters1:amd64 (1.20.2-0ubuntu3.1) ...\n",
            "Setting up libcupsimage2:amd64 (2.2.7-1ubuntu2.9) ...\n",
            "Setting up liblqr-1-0:amd64 (0.4.2-2.1) ...\n",
            "Setting up libjbig2dec0:amd64 (0.13-6) ...\n",
            "Setting up libijs-0.35:amd64 (0.35-13) ...\n",
            "Setting up netpbm (2:10.0-15.3build1) ...\n",
            "Setting up libgs9:amd64 (9.26~dfsg+0-0ubuntu0.18.04.17) ...\n",
            "Setting up libwmf0.2-7:amd64 (0.2.8.4-12) ...\n",
            "Setting up libmagickcore-6.q16-3:amd64 (8:6.9.7.4+dfsg-16ubuntu6.13) ...\n",
            "Setting up libdjvulibre21:amd64 (3.5.27.1-8ubuntu0.4) ...\n",
            "Setting up ghostscript (9.26~dfsg+0-0ubuntu0.18.04.17) ...\n",
            "Setting up libmagickwand-6.q16-3:amd64 (8:6.9.7.4+dfsg-16ubuntu6.13) ...\n",
            "Setting up imagemagick-6.q16 (8:6.9.7.4+dfsg-16ubuntu6.13) ...\n",
            "update-alternatives: using /usr/bin/compare-im6.q16 to provide /usr/bin/compare (compare) in auto mode\n",
            "update-alternatives: using /usr/bin/compare-im6.q16 to provide /usr/bin/compare-im6 (compare-im6) in auto mode\n",
            "update-alternatives: using /usr/bin/animate-im6.q16 to provide /usr/bin/animate (animate) in auto mode\n",
            "update-alternatives: using /usr/bin/animate-im6.q16 to provide /usr/bin/animate-im6 (animate-im6) in auto mode\n",
            "update-alternatives: using /usr/bin/convert-im6.q16 to provide /usr/bin/convert (convert) in auto mode\n",
            "update-alternatives: using /usr/bin/convert-im6.q16 to provide /usr/bin/convert-im6 (convert-im6) in auto mode\n",
            "update-alternatives: using /usr/bin/composite-im6.q16 to provide /usr/bin/composite (composite) in auto mode\n",
            "update-alternatives: using /usr/bin/composite-im6.q16 to provide /usr/bin/composite-im6 (composite-im6) in auto mode\n",
            "update-alternatives: using /usr/bin/conjure-im6.q16 to provide /usr/bin/conjure (conjure) in auto mode\n",
            "update-alternatives: using /usr/bin/conjure-im6.q16 to provide /usr/bin/conjure-im6 (conjure-im6) in auto mode\n",
            "update-alternatives: using /usr/bin/import-im6.q16 to provide /usr/bin/import (import) in auto mode\n",
            "update-alternatives: using /usr/bin/import-im6.q16 to provide /usr/bin/import-im6 (import-im6) in auto mode\n",
            "update-alternatives: using /usr/bin/identify-im6.q16 to provide /usr/bin/identify (identify) in auto mode\n",
            "update-alternatives: using /usr/bin/identify-im6.q16 to provide /usr/bin/identify-im6 (identify-im6) in auto mode\n",
            "update-alternatives: using /usr/bin/stream-im6.q16 to provide /usr/bin/stream (stream) in auto mode\n",
            "update-alternatives: using /usr/bin/stream-im6.q16 to provide /usr/bin/stream-im6 (stream-im6) in auto mode\n",
            "update-alternatives: using /usr/bin/display-im6.q16 to provide /usr/bin/display (display) in auto mode\n",
            "update-alternatives: using /usr/bin/display-im6.q16 to provide /usr/bin/display-im6 (display-im6) in auto mode\n",
            "update-alternatives: using /usr/bin/montage-im6.q16 to provide /usr/bin/montage (montage) in auto mode\n",
            "update-alternatives: using /usr/bin/montage-im6.q16 to provide /usr/bin/montage-im6 (montage-im6) in auto mode\n",
            "update-alternatives: using /usr/bin/mogrify-im6.q16 to provide /usr/bin/mogrify (mogrify) in auto mode\n",
            "update-alternatives: using /usr/bin/mogrify-im6.q16 to provide /usr/bin/mogrify-im6 (mogrify-im6) in auto mode\n",
            "Setting up libmagickcore-6.q16-3-extra:amd64 (8:6.9.7.4+dfsg-16ubuntu6.13) ...\n",
            "Setting up imagemagick (8:6.9.7.4+dfsg-16ubuntu6.13) ...\n",
            "Processing triggers for hicolor-icon-theme (0.17-2) ...\n",
            "Processing triggers for fontconfig (2.12.6-0ubuntu2) ...\n",
            "Processing triggers for mime-support (3.60ubuntu1) ...\n",
            "Processing triggers for libc-bin (2.27-3ubuntu1.6) ...\n",
            "Processing triggers for man-db (2.8.3-2ubuntu0.1) ...\n"
          ]
        }
      ],
      "source": [
        "!apt install imagemagick"
      ]
    },
    {
      "cell_type": "code",
      "execution_count": 221,
      "metadata": {
        "id": "GjGtV8hQ4wOu"
      },
      "outputs": [],
      "source": [
        "from numpy import arange\n",
        "import matplotlib\n",
        "from numpy import meshgrid\n",
        "from matplotlib import pyplot\n",
        "from numpy.random import seed\n",
        "from numpy.random import rand\n",
        "from matplotlib.animation import FuncAnimation\n",
        "from IPython import display\n",
        "from matplotlib import animation, rc\n",
        "from IPython.display import HTML, Image\n",
        "matplotlib.use('Agg')\n",
        "rc('animation', html='html5')\n",
        "def animate(func,method,dim,name):\n",
        "\n",
        "  global to_plot\n",
        "  to_plot,_ = deserialize(func,method,dim,'32')\n",
        "  to_plot=to_plot[0]\n",
        "\n",
        "  global optima_x\n",
        "  if func =='Sphere':\n",
        "    func = Sphere_f\n",
        "    optima_x=[0.0,0.0]\n",
        "  elif func == 'Rosenbrock':\n",
        "    func = Rosenbrock_f\n",
        "    optima_x=[1.0,1.0]\n",
        "  elif func == 'Ackley':\n",
        "    func = Ackley_f\n",
        "    optima_x=[0.0,0.0]\n",
        "  elif func == 'Zakharov':\n",
        "    func = Zakharov_f\n",
        "    optima_x=[0.0,0.0]\n",
        "  elif func == 'Michalewicz':\n",
        "    func= Michalewicz_f\n",
        "    optima_x=[2.0,1.57]\n",
        "\n",
        "    \n",
        "  fig, ax = pyplot.subplots()\n",
        "\n",
        "  def ax_plot(ax,func):\n",
        "    r_min, r_max = -5.0, 5.0\n",
        "    xaxis = arange(r_min, r_max, 0.1)\n",
        "    yaxis = arange(r_min, r_max, 0.1)\n",
        "    x, y = meshgrid(xaxis, yaxis)\n",
        "    results = func([x,y])\n",
        "\n",
        "    ax.contourf(x, y, results, levels=50, cmap='jet')\n",
        "    global optima_x\n",
        "    ax.plot([optima_x[0]], [optima_x[1]], '*', color='white')\n",
        "\n",
        "  ax_plot(ax,func)\n",
        "\n",
        "  def AnimationFunction(frame):\n",
        "    global to_plot\n",
        "    ax.clear()\n",
        "    ax_plot(ax,func)\n",
        "    sample_x = to_plot[frame][0][0]\n",
        "    sample_y = to_plot[frame][0][1]\n",
        "    ax.plot(sample_x, sample_y, 'o', color='red')\n",
        "\n",
        "  \n",
        "\n",
        "  anim_created = FuncAnimation(fig, AnimationFunction, frames=len(to_plot), interval=180)\n",
        "\n",
        "  try:\n",
        "    anim_created.save(name, writer='imagemagick', fps=180)\n",
        "  except:\n",
        "    video = anim_created.to_html5_video()\n",
        "    html = display.HTML(video)\n",
        "    display.display(html)\n",
        "  \n",
        "  plt.close()\n",
        "\n",
        "\n"
      ]
    },
    {
      "cell_type": "code",
      "execution_count": 211,
      "metadata": {
        "id": "tJzfuYzB6kat"
      },
      "outputs": [],
      "source": [
        "animate(\"Sphere\",\"DE\",'2',\"/content/Sphere_DE_2.gif\")"
      ]
    },
    {
      "cell_type": "code",
      "execution_count": 212,
      "metadata": {
        "id": "pBYmDS9c60DG"
      },
      "outputs": [],
      "source": [
        "animate(\"Sphere\",\"CEM\",'2',\"/content/Sphere_CEM_2.gif\")"
      ]
    },
    {
      "cell_type": "code",
      "execution_count": null,
      "metadata": {
        "id": "Vewor01sIJej"
      },
      "outputs": [],
      "source": [
        "animate(\"Rosenbrock\",\"DE\",'2',\"/content/Rosenbrock_DE_2.gif\")"
      ]
    },
    {
      "cell_type": "code",
      "execution_count": null,
      "metadata": {
        "id": "LxtTmox9IFJD"
      },
      "outputs": [],
      "source": [
        "animate(\"Rosenbrock\",\"CEM\",'2',\"/content/Rosenbrock_CEM_2.gif\")"
      ]
    },
    {
      "cell_type": "code",
      "execution_count": 222,
      "metadata": {
        "id": "wmA5bc6IIOEX"
      },
      "outputs": [],
      "source": [
        "animate(\"Ackley\",\"DE\",'2',\"/content/Ackley_DE_2.gif\")"
      ]
    },
    {
      "cell_type": "code",
      "execution_count": null,
      "metadata": {
        "id": "JQAoy3buSd_w"
      },
      "outputs": [],
      "source": [
        "animate(\"Ackley\",\"CEM\",'2',\"/content/Ackley_CEM_2.gif\")"
      ]
    },
    {
      "cell_type": "code",
      "execution_count": null,
      "metadata": {
        "id": "xkZIPawPN0qX"
      },
      "outputs": [],
      "source": [
        "animate(\"Zakharov\",\"DE\",'2',\"/content/Zakharov_DE_2.gif\")"
      ]
    },
    {
      "cell_type": "code",
      "execution_count": 225,
      "metadata": {
        "id": "dYCwW2xFN1db"
      },
      "outputs": [],
      "source": [
        "animate(\"Zakharov\",\"CEM\",'2',\"/content/Zakharov_CEM_2.gif\")"
      ]
    },
    {
      "cell_type": "code",
      "execution_count": null,
      "metadata": {
        "id": "oGifKrxNSfDW"
      },
      "outputs": [],
      "source": [
        "animate(\"Michalewicz\",\"DE\",'2',\"/content/Michalewicz_DE_2.gif\")"
      ]
    },
    {
      "cell_type": "code",
      "execution_count": null,
      "metadata": {
        "id": "b2h4KOuISf6s"
      },
      "outputs": [],
      "source": [
        "animate(\"Michalewicz\",\"CEM\",'2',\"/content/Michalewicz_CEM_2.gif\")"
      ]
    }
  ],
  "metadata": {
    "colab": {
      "collapsed_sections": [],
      "provenance": []
    },
    "gpuClass": "standard",
    "kernelspec": {
      "display_name": "Python 3",
      "name": "python3"
    },
    "language_info": {
      "name": "python"
    }
  },
  "nbformat": 4,
  "nbformat_minor": 0
}
